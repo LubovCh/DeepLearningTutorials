{
  "cells": [
    {
      "cell_type": "markdown",
      "metadata": {
        "id": "view-in-github",
        "colab_type": "text"
      },
      "source": [
        "<a href=\"https://colab.research.google.com/github/LubovCh/DeepLearningTutorials/blob/main/docs/tutorial_notebooks/tutorial3/Activation_Functions_empty.ipynb\" target=\"_parent\"><img src=\"https://colab.research.google.com/assets/colab-badge.svg\" alt=\"Open In Colab\"/></a>"
      ]
    },
    {
      "cell_type": "markdown",
      "metadata": {
        "id": "dB-aZWbK5xXu"
      },
      "source": [
        "# Tutorial 3: Activation Functions\n",
        "\n",
        "![Status](https://img.shields.io/static/v1.svg?label=Status&message=Finished&color=green)\n",
        "\n",
        "**Filled notebook:**\n",
        "[![View on Github](https://img.shields.io/static/v1.svg?logo=github&label=Repo&message=View%20On%20Github&color=lightgrey)](https://github.com/phlippe/uvadlc_notebooks/blob/master/docs/tutorial_notebooks/tutorial3/Activation_Functions.ipynb)\n",
        "[![Open In Collab](https://colab.research.google.com/assets/colab-badge.svg)](https://colab.research.google.com/github/phlippe/uvadlc_notebooks/blob/master/docs/tutorial_notebooks/tutorial3/Activation_Functions.ipynb)"
      ]
    },
    {
      "cell_type": "markdown",
      "metadata": {
        "id": "okx7iLHq5xXz"
      },
      "source": [
        "**Empty notebook:**\n",
        "[![View empty on Github](https://img.shields.io/static/v1.svg?logo=github&label=Repo&message=View%20On%20Github&color=lightgrey)](https://github.com/phlippe/uvadlc_notebooks/blob/master/docs/tutorial_notebooks/tutorial3/Activation_Functions_empty.ipynb)\n",
        "[![Open empty In Collab](https://colab.research.google.com/assets/colab-badge.svg)](https://colab.research.google.com/github/phlippe/uvadlc_notebooks/blob/master/docs/tutorial_notebooks/tutorial3/Activation_Functions_empty.ipynb)  "
      ]
    },
    {
      "cell_type": "markdown",
      "metadata": {
        "id": "W4O4okC-5xX0"
      },
      "source": [
        "**Pre-trained models:**\n",
        "[![View files on Github](https://img.shields.io/static/v1.svg?logo=github&label=Repo&message=View%20On%20Github&color=lightgrey)](https://github.com/phlippe/saved_models/tree/main/tutorial3)\n",
        "[![GoogleDrive](https://img.shields.io/static/v1.svg?logo=google-drive&logoColor=yellow&label=GDrive&message=Download&color=yellow)](https://drive.google.com/drive/folders/1sFpZUpDJVjiYEvIqISqfkFizfsTnPf4s?usp=sharing)"
      ]
    },
    {
      "cell_type": "markdown",
      "metadata": {
        "id": "yE7QcQCA5xX1"
      },
      "source": [
        "In this tutorial, we will take a closer look at (popular) activation functions and investigate their effect on optimization properties in neural networks.\n",
        "Activation functions are a crucial part of deep learning models as they add the non-linearity to neural networks.\n",
        "There is a great variety of activation functions in the literature, and some are more beneficial than others.\n",
        "The goal of this tutorial is to show the importance of choosing a good activation function (and how to do so), and what problems might occur if we don't.\n",
        "\n",
        "Before we start, we import our standard libraries and set up basic functions:"
      ]
    },
    {
      "cell_type": "code",
      "execution_count": 1,
      "metadata": {
        "scrolled": true,
        "colab": {
          "base_uri": "https://localhost:8080/"
        },
        "id": "AMNMmZTf5xX1",
        "outputId": "19384eda-12b6-46b0-f025-0e9cb47a2363"
      },
      "outputs": [
        {
          "output_type": "stream",
          "name": "stderr",
          "text": [
            "<ipython-input-1-99a8e9ab0136>:11: DeprecationWarning: `set_matplotlib_formats` is deprecated since IPython 7.23, directly use `matplotlib_inline.backend_inline.set_matplotlib_formats()`\n",
            "  set_matplotlib_formats('svg', 'pdf') # For export\n"
          ]
        }
      ],
      "source": [
        "## Standard libraries\n",
        "import os\n",
        "import json\n",
        "import math\n",
        "import numpy as np\n",
        "\n",
        "## Imports for plotting\n",
        "import matplotlib.pyplot as plt\n",
        "%matplotlib inline\n",
        "from IPython.display import set_matplotlib_formats\n",
        "set_matplotlib_formats('svg', 'pdf') # For export\n",
        "import seaborn as sns\n",
        "sns.set()\n",
        "\n",
        "## Progress bar\n",
        "from tqdm.notebook import tqdm\n",
        "\n",
        "## PyTorch\n",
        "import torch\n",
        "import torch.nn as nn\n",
        "import torch.nn.functional as F\n",
        "import torch.utils.data as data\n",
        "import torch.optim as optim"
      ]
    },
    {
      "cell_type": "markdown",
      "metadata": {
        "id": "2ef7HxYP5xX3"
      },
      "source": [
        "We will define a function to set a seed on all libraries we might interact with in this tutorial (here numpy and torch). This allows us to make our training reproducible. However, note that in contrast to the CPU, the same seed on different GPU architectures can give different results. All models here have been trained on an NVIDIA GTX1080Ti, which is also the GPU type provided by the Lisa gpu_shared_course partition.\n",
        "\n",
        "Additionally, the following cell defines two paths: `DATASET_PATH` and `CHECKPOINT_PATH`. The dataset path is the directory where we will download datasets used in the notebooks. It is recommended to store all datasets from PyTorch in one joined directory to prevent duplicate downloads. The checkpoint path is the directory where we will store trained model weights and additional files. The needed files will be automatically downloaded. In case you are on Google Colab, it is recommended to change the directories to start from the current directory (i.e. remove `../` for both dataset and checkpoint path)."
      ]
    },
    {
      "cell_type": "code",
      "execution_count": 2,
      "metadata": {
        "scrolled": true,
        "colab": {
          "base_uri": "https://localhost:8080/"
        },
        "id": "nMvREfe35xX3",
        "outputId": "3638e10a-3187-4e13-adde-70d1c6c5d236"
      },
      "outputs": [
        {
          "output_type": "stream",
          "name": "stdout",
          "text": [
            "Using device cuda:0\n"
          ]
        }
      ],
      "source": [
        "# Path to the folder where the datasets are/should be downloaded (e.g. MNIST)\n",
        "DATASET_PATH = \"data\"\n",
        "# Path to the folder where the pretrained models are saved\n",
        "CHECKPOINT_PATH = \"saved_models/tutorial3\"\n",
        "\n",
        "# Function for setting the seed\n",
        "def set_seed(seed):\n",
        "    np.random.seed(seed)\n",
        "    torch.manual_seed(seed)\n",
        "    if torch.cuda.is_available(): # GPU operation have separate seed\n",
        "        torch.cuda.manual_seed(seed)\n",
        "        torch.cuda.manual_seed_all(seed)\n",
        "set_seed(42)\n",
        "\n",
        "# Additionally, some operations on a GPU are implemented stochastic for efficiency\n",
        "# We want to ensure that all operations are deterministic on GPU (if used) for reproducibility\n",
        "torch.backends.cudnn.deterministic = True\n",
        "torch.backends.cudnn.benchmark = False\n",
        "\n",
        "# Fetching the device that will be used throughout this notebook\n",
        "device = torch.device(\"cpu\") if not torch.cuda.is_available() else torch.device(\"cuda:0\")\n",
        "print(\"Using device\", device)"
      ]
    },
    {
      "cell_type": "markdown",
      "metadata": {
        "id": "XDfLmet65xX4"
      },
      "source": [
        "The following cell downloads all pretrained models we will use in this notebook. The files are stored on a separate [repository](https://github.com/phlippe/saved_models) to reduce the size of the notebook repository, especially for building the documentation on ReadTheDocs. In case the download below fails, you can download the models from a [Google Drive folder](https://drive.google.com/drive/folders/1sFpZUpDJVjiYEvIqISqfkFizfsTnPf4s?usp=sharing). Please let me (Phillip) know if an error occurs so it can be fixed for all students."
      ]
    },
    {
      "cell_type": "code",
      "execution_count": 3,
      "metadata": {
        "colab": {
          "base_uri": "https://localhost:8080/"
        },
        "id": "thdXfanw5xX4",
        "outputId": "bd89b5ee-916a-454f-c4a0-b5c41a852c48"
      },
      "outputs": [
        {
          "output_type": "stream",
          "name": "stdout",
          "text": [
            "Downloading https://raw.githubusercontent.com/phlippe/saved_models/main/tutorial3/FashionMNIST_elu.config...\n",
            "Downloading https://raw.githubusercontent.com/phlippe/saved_models/main/tutorial3/FashionMNIST_elu.tar...\n",
            "Downloading https://raw.githubusercontent.com/phlippe/saved_models/main/tutorial3/FashionMNIST_leakyrelu.config...\n",
            "Downloading https://raw.githubusercontent.com/phlippe/saved_models/main/tutorial3/FashionMNIST_leakyrelu.tar...\n",
            "Downloading https://raw.githubusercontent.com/phlippe/saved_models/main/tutorial3/FashionMNIST_relu.config...\n",
            "Downloading https://raw.githubusercontent.com/phlippe/saved_models/main/tutorial3/FashionMNIST_relu.tar...\n",
            "Downloading https://raw.githubusercontent.com/phlippe/saved_models/main/tutorial3/FashionMNIST_sigmoid.config...\n",
            "Downloading https://raw.githubusercontent.com/phlippe/saved_models/main/tutorial3/FashionMNIST_sigmoid.tar...\n",
            "Downloading https://raw.githubusercontent.com/phlippe/saved_models/main/tutorial3/FashionMNIST_swish.config...\n",
            "Downloading https://raw.githubusercontent.com/phlippe/saved_models/main/tutorial3/FashionMNIST_swish.tar...\n",
            "Downloading https://raw.githubusercontent.com/phlippe/saved_models/main/tutorial3/FashionMNIST_tanh.config...\n",
            "Downloading https://raw.githubusercontent.com/phlippe/saved_models/main/tutorial3/FashionMNIST_tanh.tar...\n"
          ]
        }
      ],
      "source": [
        "import urllib.request\n",
        "from urllib.error import HTTPError\n",
        "# Github URL where saved models are stored for this tutorial\n",
        "base_url = \"https://raw.githubusercontent.com/phlippe/saved_models/main/tutorial3/\"\n",
        "# Files to download\n",
        "pretrained_files = [\"FashionMNIST_elu.config\", \"FashionMNIST_elu.tar\",\n",
        "                    \"FashionMNIST_leakyrelu.config\", \"FashionMNIST_leakyrelu.tar\",\n",
        "                    \"FashionMNIST_relu.config\", \"FashionMNIST_relu.tar\",\n",
        "                    \"FashionMNIST_sigmoid.config\", \"FashionMNIST_sigmoid.tar\",\n",
        "                    \"FashionMNIST_swish.config\", \"FashionMNIST_swish.tar\",\n",
        "                    \"FashionMNIST_tanh.config\", \"FashionMNIST_tanh.tar\"]\n",
        "# Create checkpoint path if it doesn't exist yet\n",
        "os.makedirs(CHECKPOINT_PATH, exist_ok=True)\n",
        "\n",
        "# For each file, check whether it already exists. If not, try downloading it.\n",
        "for file_name in pretrained_files:\n",
        "    file_path = os.path.join(CHECKPOINT_PATH, file_name)\n",
        "    if not os.path.isfile(file_path):\n",
        "        file_url = base_url + file_name\n",
        "        print(\"Downloading %s...\" % file_url)\n",
        "        try:\n",
        "            urllib.request.urlretrieve(file_url, file_path)\n",
        "        except HTTPError as e:\n",
        "            print(\"Something went wrong. Please try to download the file from the GDrive folder, or contact the author with the full output including the following error:\\n\", e)"
      ]
    },
    {
      "cell_type": "markdown",
      "metadata": {
        "id": "uh7FnuQB5xX5"
      },
      "source": [
        "## Common activation functions"
      ]
    },
    {
      "cell_type": "markdown",
      "metadata": {
        "id": "_UdmBO7m5xX5"
      },
      "source": [
        "As a first step, we will implement some common activation functions by ourselves. Of course, most of them can also be found in the `torch.nn` package (see the [documentation](https://pytorch.org/docs/stable/nn.html#non-linear-activations-weighted-sum-nonlinearity) for an overview).\n",
        "However, we'll write our own functions here for a better understanding and insights.\n",
        "\n",
        "For an easier time of comparing various activation functions, we start with defining a base class from which all our future modules will inherit:"
      ]
    },
    {
      "cell_type": "code",
      "execution_count": 4,
      "metadata": {
        "scrolled": true,
        "id": "tD5fwyE45xX6"
      },
      "outputs": [],
      "source": [
        "class ActivationFunction(nn.Module):\n",
        "\n",
        "    def __init__(self):\n",
        "        super().__init__()\n",
        "        self.name = self.__class__.__name__\n",
        "        self.config = {\"name\": self.name}"
      ]
    },
    {
      "cell_type": "markdown",
      "metadata": {
        "id": "XrKRRgDY5xX6"
      },
      "source": [
        "Every activation function will be an `nn.Module` so that we can integrate them nicely in a network. We will use the `config` dictionary to store adjustable parameters for some activation functions.\n",
        "\n",
        "Next, we implement two of the \"oldest\" activation functions that are still commonly used for various tasks: sigmoid and tanh.\n",
        "Both the sigmoid and tanh activation can be also found as PyTorch functions (`torch.sigmoid`, `torch.tanh`) or as modules (`nn.Sigmoid`, `nn.Tanh`).\n",
        "Here, we implement them by hand:"
      ]
    },
    {
      "cell_type": "code",
      "execution_count": 5,
      "metadata": {
        "id": "eHUE6mg25xX6"
      },
      "outputs": [],
      "source": [
        "##############################\n",
        "\n",
        "class Sigmoid(ActivationFunction):\n",
        "\n",
        "    def forward(self, x):\n",
        "        ## TODO: Implement sigmoid\n",
        "        return 1 / (1 + torch.exp(-x))\n",
        "\n",
        "##############################\n",
        "\n",
        "class Tanh(ActivationFunction):\n",
        "\n",
        "    def forward(self, x):\n",
        "        ## TODO: Implement tanh\n",
        "        exp_x = torch.exp(x)\n",
        "        neg_exp_x = torch.exp(-x)\n",
        "        return (exp_x - neg_exp_x) / (exp_x + neg_exp_x)\n",
        "\n",
        "##############################"
      ]
    },
    {
      "cell_type": "markdown",
      "metadata": {
        "id": "Nsq-Ff2U5xX6"
      },
      "source": [
        "Another popular activation function that has allowed the training of deeper networks, is the Rectified Linear Unit (ReLU).\n",
        "Despite its simplicity of being a piecewise linear function, ReLU has one major benefit compared to sigmoid and tanh: a strong, stable gradient for a large range of values.\n",
        "Based on this idea, a lot of variations of ReLU have been proposed, of which we will implement the following three: LeakyReLU, ELU, and Swish.\n",
        "LeakyReLU replaces the zero settings in the negative part with a smaller slope to allow gradients to flow also in this part of the input.\n",
        "Similarly, ELU replaces the negative part with an exponential decay.\n",
        "The third, most recently proposed activation function is Swish, which is actually the result of a large experiment with the purpose of finding the \"optimal\" activation function.\n",
        "Compared to the other activation functions, Swish is both smooth and non-monotonic (i.e. contains a change of sign in the gradient).\n",
        "This has been shown to prevent dead neurons as in standard ReLU activation, especially for deep networks.\n",
        "If interested, a more detailed discussion of the benefits of Swish can be found in [this paper](https://arxiv.org/abs/1710.05941) [1].\n",
        "\n",
        "Let's implement the four activation functions below:"
      ]
    },
    {
      "cell_type": "code",
      "execution_count": 17,
      "metadata": {
        "scrolled": true,
        "id": "BK_lLc3h5xX7"
      },
      "outputs": [],
      "source": [
        "##############################\n",
        "\n",
        "class ReLU(ActivationFunction):\n",
        "\n",
        "    def forward(self, x):\n",
        "        ## TODO: Implement ReLU\n",
        "        return torch.max(x, 0)\n",
        "\n",
        "##############################\n",
        "\n",
        "class LeakyReLU(ActivationFunction):\n",
        "\n",
        "    def __init__(self, alpha=0.1):\n",
        "        super().__init__()\n",
        "        self.config[\"alpha\"] = alpha\n",
        "\n",
        "    def forward(self, x):\n",
        "        ## TODO: Implement LeakyReLU with alpha as negative slope\n",
        "        if x >= 0:\n",
        "          return x\n",
        "        return self.config[\"alpha\"] * x\n",
        "\n",
        "##############################\n",
        "\n",
        "class ELU(ActivationFunction):\n",
        "\n",
        "    def forward(self, x):\n",
        "        ## TODO: Implement ELU\n",
        "        if x >= 0:\n",
        "          return x\n",
        "        return self.config[\"alpha\"] * (torch.exp(x)-1)\n",
        "\n",
        "##############################\n",
        "\n",
        "class Swish(ActivationFunction):\n",
        "\n",
        "    def forward(self, x):\n",
        "        ## TODO: Implement Swish\n",
        "        return x * Sigmoid().forward(x)\n",
        "\n",
        "##############################"
      ]
    },
    {
      "cell_type": "markdown",
      "metadata": {
        "id": "Cd9_hsxj5xX7"
      },
      "source": [
        "For later usage, we summarize all our activation functions in a dictionary mapping the name to the class object. In case you implement a new activation function by yourself, add it here to include it in future comparisons as well:"
      ]
    },
    {
      "cell_type": "code",
      "execution_count": 18,
      "metadata": {
        "scrolled": true,
        "id": "opmk0LAc5xX7"
      },
      "outputs": [],
      "source": [
        "act_fn_by_name = {\n",
        "    \"sigmoid\": Sigmoid,\n",
        "    \"tanh\": Tanh,\n",
        "    \"relu\": ReLU,\n",
        "    \"leakyrelu\": LeakyReLU,\n",
        "    \"elu\": ELU,\n",
        "    \"swish\": Swish\n",
        "}"
      ]
    },
    {
      "cell_type": "markdown",
      "metadata": {
        "id": "38j92vWl5xX7"
      },
      "source": [
        "### Visualizing activation functions\n",
        "\n",
        "To get an idea of what each activation function actually does, we will visualize them in the following.\n",
        "Next to the actual activation value, the gradient of the function is an important aspect as it is crucial for optimizing the neural network.\n",
        "PyTorch allows us to compute the gradients simply by calling the `backward` function:"
      ]
    },
    {
      "cell_type": "code",
      "execution_count": 19,
      "metadata": {
        "scrolled": true,
        "id": "msonqvQ05xX7"
      },
      "outputs": [],
      "source": [
        "def get_grads(act_fn, x):\n",
        "    \"\"\"\n",
        "    Computes the gradients of an activation function at specified positions.\n",
        "\n",
        "    Inputs:\n",
        "        act_fn - An object of the class \"ActivationFunction\" with an implemented forward pass.\n",
        "        x - 1D input tensor.\n",
        "    Output:\n",
        "        A tensor with the same size of x containing the gradients of act_fn at x.\n",
        "    \"\"\"\n",
        "    x = x.clone()\n",
        "    ## TODO: Calculate and return the gradients of the activation function for each point of x\n",
        "    devs = torch.zeros_like(x)\n",
        "    for i, x_val in enumerate(x):\n",
        "      devs[i] = act_fn.forward(x_val)\n",
        "    return devs"
      ]
    },
    {
      "cell_type": "markdown",
      "metadata": {
        "id": "PfHC6Zbe5xX8"
      },
      "source": [
        "Now we can visualize all our activation functions including their gradients:"
      ]
    },
    {
      "cell_type": "code",
      "execution_count": 20,
      "metadata": {
        "scrolled": false,
        "colab": {
          "base_uri": "https://localhost:8080/",
          "height": 1000
        },
        "id": "5XzZBZ9i5xX8",
        "outputId": "ca915383-08ae-41dd-ef48-6310d13b9f4a"
      },
      "outputs": [
        {
          "output_type": "error",
          "ename": "TypeError",
          "evalue": "can't assign a torch.return_types.max to a torch.FloatTensor",
          "traceback": [
            "\u001b[0;31m---------------------------------------------------------------------------\u001b[0m",
            "\u001b[0;31mTypeError\u001b[0m                                 Traceback (most recent call last)",
            "\u001b[0;32m<ipython-input-20-9ac524f95492>\u001b[0m in \u001b[0;36m<cell line: 20>\u001b[0;34m()\u001b[0m\n\u001b[1;32m     19\u001b[0m \u001b[0mfig\u001b[0m\u001b[0;34m,\u001b[0m \u001b[0max\u001b[0m \u001b[0;34m=\u001b[0m \u001b[0mplt\u001b[0m\u001b[0;34m.\u001b[0m\u001b[0msubplots\u001b[0m\u001b[0;34m(\u001b[0m\u001b[0mrows\u001b[0m\u001b[0;34m,\u001b[0m \u001b[0;36m2\u001b[0m\u001b[0;34m,\u001b[0m \u001b[0mfigsize\u001b[0m\u001b[0;34m=\u001b[0m\u001b[0;34m(\u001b[0m\u001b[0;36m8\u001b[0m\u001b[0;34m,\u001b[0m \u001b[0mrows\u001b[0m\u001b[0;34m*\u001b[0m\u001b[0;36m4\u001b[0m\u001b[0;34m)\u001b[0m\u001b[0;34m)\u001b[0m\u001b[0;34m\u001b[0m\u001b[0;34m\u001b[0m\u001b[0m\n\u001b[1;32m     20\u001b[0m \u001b[0;32mfor\u001b[0m \u001b[0mi\u001b[0m\u001b[0;34m,\u001b[0m \u001b[0mact_fn\u001b[0m \u001b[0;32min\u001b[0m \u001b[0menumerate\u001b[0m\u001b[0;34m(\u001b[0m\u001b[0mact_fns\u001b[0m\u001b[0;34m)\u001b[0m\u001b[0;34m:\u001b[0m\u001b[0;34m\u001b[0m\u001b[0;34m\u001b[0m\u001b[0m\n\u001b[0;32m---> 21\u001b[0;31m     \u001b[0mvis_act_fn\u001b[0m\u001b[0;34m(\u001b[0m\u001b[0mact_fn\u001b[0m\u001b[0;34m,\u001b[0m \u001b[0max\u001b[0m\u001b[0;34m[\u001b[0m\u001b[0mdivmod\u001b[0m\u001b[0;34m(\u001b[0m\u001b[0mi\u001b[0m\u001b[0;34m,\u001b[0m\u001b[0;36m2\u001b[0m\u001b[0;34m)\u001b[0m\u001b[0;34m]\u001b[0m\u001b[0;34m,\u001b[0m \u001b[0mx\u001b[0m\u001b[0;34m)\u001b[0m\u001b[0;34m\u001b[0m\u001b[0;34m\u001b[0m\u001b[0m\n\u001b[0m\u001b[1;32m     22\u001b[0m \u001b[0mfig\u001b[0m\u001b[0;34m.\u001b[0m\u001b[0msubplots_adjust\u001b[0m\u001b[0;34m(\u001b[0m\u001b[0mhspace\u001b[0m\u001b[0;34m=\u001b[0m\u001b[0;36m0.3\u001b[0m\u001b[0;34m)\u001b[0m\u001b[0;34m\u001b[0m\u001b[0;34m\u001b[0m\u001b[0m\n\u001b[1;32m     23\u001b[0m \u001b[0mplt\u001b[0m\u001b[0;34m.\u001b[0m\u001b[0mshow\u001b[0m\u001b[0;34m(\u001b[0m\u001b[0;34m)\u001b[0m\u001b[0;34m\u001b[0m\u001b[0;34m\u001b[0m\u001b[0m\n",
            "\u001b[0;32m<ipython-input-20-9ac524f95492>\u001b[0m in \u001b[0;36mvis_act_fn\u001b[0;34m(act_fn, ax, x)\u001b[0m\n\u001b[1;32m      2\u001b[0m     \u001b[0;31m# Run activation function\u001b[0m\u001b[0;34m\u001b[0m\u001b[0;34m\u001b[0m\u001b[0m\n\u001b[1;32m      3\u001b[0m     \u001b[0my\u001b[0m \u001b[0;34m=\u001b[0m \u001b[0mact_fn\u001b[0m\u001b[0;34m(\u001b[0m\u001b[0mx\u001b[0m\u001b[0;34m)\u001b[0m\u001b[0;34m\u001b[0m\u001b[0;34m\u001b[0m\u001b[0m\n\u001b[0;32m----> 4\u001b[0;31m     \u001b[0my_grads\u001b[0m \u001b[0;34m=\u001b[0m \u001b[0mget_grads\u001b[0m\u001b[0;34m(\u001b[0m\u001b[0mact_fn\u001b[0m\u001b[0;34m,\u001b[0m \u001b[0mx\u001b[0m\u001b[0;34m)\u001b[0m\u001b[0;34m\u001b[0m\u001b[0;34m\u001b[0m\u001b[0m\n\u001b[0m\u001b[1;32m      5\u001b[0m     \u001b[0;31m# Push x, y and gradients back to cpu for plotting\u001b[0m\u001b[0;34m\u001b[0m\u001b[0;34m\u001b[0m\u001b[0m\n\u001b[1;32m      6\u001b[0m     \u001b[0mx\u001b[0m\u001b[0;34m,\u001b[0m \u001b[0my\u001b[0m\u001b[0;34m,\u001b[0m \u001b[0my_grads\u001b[0m \u001b[0;34m=\u001b[0m \u001b[0mx\u001b[0m\u001b[0;34m.\u001b[0m\u001b[0mcpu\u001b[0m\u001b[0;34m(\u001b[0m\u001b[0;34m)\u001b[0m\u001b[0;34m.\u001b[0m\u001b[0mnumpy\u001b[0m\u001b[0;34m(\u001b[0m\u001b[0;34m)\u001b[0m\u001b[0;34m,\u001b[0m \u001b[0my\u001b[0m\u001b[0;34m.\u001b[0m\u001b[0mcpu\u001b[0m\u001b[0;34m(\u001b[0m\u001b[0;34m)\u001b[0m\u001b[0;34m.\u001b[0m\u001b[0mnumpy\u001b[0m\u001b[0;34m(\u001b[0m\u001b[0;34m)\u001b[0m\u001b[0;34m,\u001b[0m \u001b[0my_grads\u001b[0m\u001b[0;34m.\u001b[0m\u001b[0mcpu\u001b[0m\u001b[0;34m(\u001b[0m\u001b[0;34m)\u001b[0m\u001b[0;34m.\u001b[0m\u001b[0mnumpy\u001b[0m\u001b[0;34m(\u001b[0m\u001b[0;34m)\u001b[0m\u001b[0;34m\u001b[0m\u001b[0;34m\u001b[0m\u001b[0m\n",
            "\u001b[0;32m<ipython-input-19-570213c2bc83>\u001b[0m in \u001b[0;36mget_grads\u001b[0;34m(act_fn, x)\u001b[0m\n\u001b[1;32m     13\u001b[0m     \u001b[0mdevs\u001b[0m \u001b[0;34m=\u001b[0m \u001b[0mtorch\u001b[0m\u001b[0;34m.\u001b[0m\u001b[0mzeros_like\u001b[0m\u001b[0;34m(\u001b[0m\u001b[0mx\u001b[0m\u001b[0;34m)\u001b[0m\u001b[0;34m\u001b[0m\u001b[0;34m\u001b[0m\u001b[0m\n\u001b[1;32m     14\u001b[0m     \u001b[0;32mfor\u001b[0m \u001b[0mi\u001b[0m\u001b[0;34m,\u001b[0m \u001b[0mx_val\u001b[0m \u001b[0;32min\u001b[0m \u001b[0menumerate\u001b[0m\u001b[0;34m(\u001b[0m\u001b[0mx\u001b[0m\u001b[0;34m)\u001b[0m\u001b[0;34m:\u001b[0m\u001b[0;34m\u001b[0m\u001b[0;34m\u001b[0m\u001b[0m\n\u001b[0;32m---> 15\u001b[0;31m       \u001b[0mdevs\u001b[0m\u001b[0;34m[\u001b[0m\u001b[0mi\u001b[0m\u001b[0;34m]\u001b[0m \u001b[0;34m=\u001b[0m \u001b[0mact_fn\u001b[0m\u001b[0;34m.\u001b[0m\u001b[0mforward\u001b[0m\u001b[0;34m(\u001b[0m\u001b[0mx_val\u001b[0m\u001b[0;34m)\u001b[0m\u001b[0;34m\u001b[0m\u001b[0;34m\u001b[0m\u001b[0m\n\u001b[0m\u001b[1;32m     16\u001b[0m     \u001b[0;32mreturn\u001b[0m \u001b[0mdevs\u001b[0m\u001b[0;34m\u001b[0m\u001b[0;34m\u001b[0m\u001b[0m\n",
            "\u001b[0;31mTypeError\u001b[0m: can't assign a torch.return_types.max to a torch.FloatTensor"
          ]
        },
        {
          "output_type": "display_data",
          "data": {
            "text/plain": [
              "<Figure size 800x1200 with 6 Axes>"
            ],
            "image/svg+xml": "<?xml version=\"1.0\" encoding=\"utf-8\" standalone=\"no\"?>\n<!DOCTYPE svg PUBLIC \"-//W3C//DTD SVG 1.1//EN\"\n  \"http://www.w3.org/Graphics/SVG/1.1/DTD/svg11.dtd\">\n<svg xmlns:xlink=\"http://www.w3.org/1999/xlink\" width=\"496.540156pt\" height=\"714.944062pt\" viewBox=\"0 0 496.540156 714.944062\" xmlns=\"http://www.w3.org/2000/svg\" version=\"1.1\">\n <metadata>\n  <rdf:RDF xmlns:dc=\"http://purl.org/dc/elements/1.1/\" xmlns:cc=\"http://creativecommons.org/ns#\" xmlns:rdf=\"http://www.w3.org/1999/02/22-rdf-syntax-ns#\">\n   <cc:Work>\n    <dc:type rdf:resource=\"http://purl.org/dc/dcmitype/StillImage\"/>\n    <dc:date>2024-11-16T17:17:30.309521</dc:date>\n    <dc:format>image/svg+xml</dc:format>\n    <dc:creator>\n     <cc:Agent>\n      <dc:title>Matplotlib v3.8.0, https://matplotlib.org/</dc:title>\n     </cc:Agent>\n    </dc:creator>\n   </cc:Work>\n  </rdf:RDF>\n </metadata>\n <defs>\n  <style type=\"text/css\">*{stroke-linejoin: round; stroke-linecap: butt}</style>\n </defs>\n <g id=\"figure_1\">\n  <g id=\"patch_1\">\n   <path d=\"M 0 714.944062 \nL 496.540156 714.944062 \nL 496.540156 0 \nL 0 0 \nz\n\" style=\"fill: #ffffff\"/>\n  </g>\n  <g id=\"axes_1\">\n   <g id=\"patch_2\">\n    <path d=\"M 34.193437 217.988713 \nL 237.102528 217.988713 \nL 237.102528 22.318125 \nL 34.193437 22.318125 \nz\n\" style=\"fill: #eaeaf2\"/>\n   </g>\n   <g id=\"matplotlib.axis_1\">\n    <g id=\"xtick_1\">\n     <g id=\"line2d_1\">\n      <path d=\"M 61.862859 217.988713 \nL 61.862859 22.318125 \n\" clip-path=\"url(#pa088df5070)\" style=\"fill: none; stroke: #ffffff; stroke-linecap: round\"/>\n     </g>\n     <g id=\"text_1\">\n      <!-- −4 -->\n      <g style=\"fill: #262626\" transform=\"translate(53.754656 235.846994) scale(0.11 -0.11)\">\n       <defs>\n        <path id=\"DejaVuSans-2212\" d=\"M 678 2272 \nL 4684 2272 \nL 4684 1741 \nL 678 1741 \nL 678 2272 \nz\n\" transform=\"scale(0.015625)\"/>\n        <path id=\"DejaVuSans-34\" d=\"M 2419 4116 \nL 825 1625 \nL 2419 1625 \nL 2419 4116 \nz\nM 2253 4666 \nL 3047 4666 \nL 3047 1625 \nL 3713 1625 \nL 3713 1100 \nL 3047 1100 \nL 3047 0 \nL 2419 0 \nL 2419 1100 \nL 313 1100 \nL 313 1709 \nL 2253 4666 \nz\n\" transform=\"scale(0.015625)\"/>\n       </defs>\n       <use xlink:href=\"#DejaVuSans-2212\"/>\n       <use xlink:href=\"#DejaVuSans-34\" x=\"83.789062\"/>\n      </g>\n     </g>\n    </g>\n    <g id=\"xtick_2\">\n     <g id=\"line2d_2\">\n      <path d=\"M 98.755421 217.988713 \nL 98.755421 22.318125 \n\" clip-path=\"url(#pa088df5070)\" style=\"fill: none; stroke: #ffffff; stroke-linecap: round\"/>\n     </g>\n     <g id=\"text_2\">\n      <!-- −2 -->\n      <g style=\"fill: #262626\" transform=\"translate(90.647218 235.846994) scale(0.11 -0.11)\">\n       <defs>\n        <path id=\"DejaVuSans-32\" d=\"M 1228 531 \nL 3431 531 \nL 3431 0 \nL 469 0 \nL 469 531 \nQ 828 903 1448 1529 \nQ 2069 2156 2228 2338 \nQ 2531 2678 2651 2914 \nQ 2772 3150 2772 3378 \nQ 2772 3750 2511 3984 \nQ 2250 4219 1831 4219 \nQ 1534 4219 1204 4116 \nQ 875 4013 500 3803 \nL 500 4441 \nQ 881 4594 1212 4672 \nQ 1544 4750 1819 4750 \nQ 2544 4750 2975 4387 \nQ 3406 4025 3406 3419 \nQ 3406 3131 3298 2873 \nQ 3191 2616 2906 2266 \nQ 2828 2175 2409 1742 \nQ 1991 1309 1228 531 \nz\n\" transform=\"scale(0.015625)\"/>\n       </defs>\n       <use xlink:href=\"#DejaVuSans-2212\"/>\n       <use xlink:href=\"#DejaVuSans-32\" x=\"83.789062\"/>\n      </g>\n     </g>\n    </g>\n    <g id=\"xtick_3\">\n     <g id=\"line2d_3\">\n      <path d=\"M 135.647983 217.988713 \nL 135.647983 22.318125 \n\" clip-path=\"url(#pa088df5070)\" style=\"fill: none; stroke: #ffffff; stroke-linecap: round\"/>\n     </g>\n     <g id=\"text_3\">\n      <!-- 0 -->\n      <g style=\"fill: #262626\" transform=\"translate(132.148608 235.846994) scale(0.11 -0.11)\">\n       <defs>\n        <path id=\"DejaVuSans-30\" d=\"M 2034 4250 \nQ 1547 4250 1301 3770 \nQ 1056 3291 1056 2328 \nQ 1056 1369 1301 889 \nQ 1547 409 2034 409 \nQ 2525 409 2770 889 \nQ 3016 1369 3016 2328 \nQ 3016 3291 2770 3770 \nQ 2525 4250 2034 4250 \nz\nM 2034 4750 \nQ 2819 4750 3233 4129 \nQ 3647 3509 3647 2328 \nQ 3647 1150 3233 529 \nQ 2819 -91 2034 -91 \nQ 1250 -91 836 529 \nQ 422 1150 422 2328 \nQ 422 3509 836 4129 \nQ 1250 4750 2034 4750 \nz\n\" transform=\"scale(0.015625)\"/>\n       </defs>\n       <use xlink:href=\"#DejaVuSans-30\"/>\n      </g>\n     </g>\n    </g>\n    <g id=\"xtick_4\">\n     <g id=\"line2d_4\">\n      <path d=\"M 172.540545 217.988713 \nL 172.540545 22.318125 \n\" clip-path=\"url(#pa088df5070)\" style=\"fill: none; stroke: #ffffff; stroke-linecap: round\"/>\n     </g>\n     <g id=\"text_4\">\n      <!-- 2 -->\n      <g style=\"fill: #262626\" transform=\"translate(169.04117 235.846994) scale(0.11 -0.11)\">\n       <use xlink:href=\"#DejaVuSans-32\"/>\n      </g>\n     </g>\n    </g>\n    <g id=\"xtick_5\">\n     <g id=\"line2d_5\">\n      <path d=\"M 209.433107 217.988713 \nL 209.433107 22.318125 \n\" clip-path=\"url(#pa088df5070)\" style=\"fill: none; stroke: #ffffff; stroke-linecap: round\"/>\n     </g>\n     <g id=\"text_5\">\n      <!-- 4 -->\n      <g style=\"fill: #262626\" transform=\"translate(205.933732 235.846994) scale(0.11 -0.11)\">\n       <use xlink:href=\"#DejaVuSans-34\"/>\n      </g>\n     </g>\n    </g>\n   </g>\n   <g id=\"matplotlib.axis_2\">\n    <g id=\"ytick_1\">\n     <g id=\"line2d_6\">\n      <path d=\"M 34.193437 202.93713 \nL 237.102528 202.93713 \n\" clip-path=\"url(#pa088df5070)\" style=\"fill: none; stroke: #ffffff; stroke-linecap: round\"/>\n     </g>\n     <g id=\"text_6\">\n      <!-- −1 -->\n      <g style=\"fill: #262626\" transform=\"translate(8.477031 207.11627) scale(0.11 -0.11)\">\n       <defs>\n        <path id=\"DejaVuSans-31\" d=\"M 794 531 \nL 1825 531 \nL 1825 4091 \nL 703 3866 \nL 703 4441 \nL 1819 4666 \nL 2450 4666 \nL 2450 531 \nL 3481 531 \nL 3481 0 \nL 794 0 \nL 794 531 \nz\n\" transform=\"scale(0.015625)\"/>\n       </defs>\n       <use xlink:href=\"#DejaVuSans-2212\"/>\n       <use xlink:href=\"#DejaVuSans-31\" x=\"83.789062\"/>\n      </g>\n     </g>\n    </g>\n    <g id=\"ytick_2\">\n     <g id=\"line2d_7\">\n      <path d=\"M 34.193437 172.833962 \nL 237.102528 172.833962 \n\" clip-path=\"url(#pa088df5070)\" style=\"fill: none; stroke: #ffffff; stroke-linecap: round\"/>\n     </g>\n     <g id=\"text_7\">\n      <!-- 0 -->\n      <g style=\"fill: #262626\" transform=\"translate(17.694687 177.013103) scale(0.11 -0.11)\">\n       <use xlink:href=\"#DejaVuSans-30\"/>\n      </g>\n     </g>\n    </g>\n    <g id=\"ytick_3\">\n     <g id=\"line2d_8\">\n      <path d=\"M 34.193437 142.730795 \nL 237.102528 142.730795 \n\" clip-path=\"url(#pa088df5070)\" style=\"fill: none; stroke: #ffffff; stroke-linecap: round\"/>\n     </g>\n     <g id=\"text_8\">\n      <!-- 1 -->\n      <g style=\"fill: #262626\" transform=\"translate(17.694687 146.909935) scale(0.11 -0.11)\">\n       <use xlink:href=\"#DejaVuSans-31\"/>\n      </g>\n     </g>\n    </g>\n    <g id=\"ytick_4\">\n     <g id=\"line2d_9\">\n      <path d=\"M 34.193437 112.627627 \nL 237.102528 112.627627 \n\" clip-path=\"url(#pa088df5070)\" style=\"fill: none; stroke: #ffffff; stroke-linecap: round\"/>\n     </g>\n     <g id=\"text_9\">\n      <!-- 2 -->\n      <g style=\"fill: #262626\" transform=\"translate(17.694687 116.806768) scale(0.11 -0.11)\">\n       <use xlink:href=\"#DejaVuSans-32\"/>\n      </g>\n     </g>\n    </g>\n    <g id=\"ytick_5\">\n     <g id=\"line2d_10\">\n      <path d=\"M 34.193437 82.52446 \nL 237.102528 82.52446 \n\" clip-path=\"url(#pa088df5070)\" style=\"fill: none; stroke: #ffffff; stroke-linecap: round\"/>\n     </g>\n     <g id=\"text_10\">\n      <!-- 3 -->\n      <g style=\"fill: #262626\" transform=\"translate(17.694687 86.7036) scale(0.11 -0.11)\">\n       <defs>\n        <path id=\"DejaVuSans-33\" d=\"M 2597 2516 \nQ 3050 2419 3304 2112 \nQ 3559 1806 3559 1356 \nQ 3559 666 3084 287 \nQ 2609 -91 1734 -91 \nQ 1441 -91 1130 -33 \nQ 819 25 488 141 \nL 488 750 \nQ 750 597 1062 519 \nQ 1375 441 1716 441 \nQ 2309 441 2620 675 \nQ 2931 909 2931 1356 \nQ 2931 1769 2642 2001 \nQ 2353 2234 1838 2234 \nL 1294 2234 \nL 1294 2753 \nL 1863 2753 \nQ 2328 2753 2575 2939 \nQ 2822 3125 2822 3475 \nQ 2822 3834 2567 4026 \nQ 2313 4219 1838 4219 \nQ 1578 4219 1281 4162 \nQ 984 4106 628 3988 \nL 628 4550 \nQ 988 4650 1302 4700 \nQ 1616 4750 1894 4750 \nQ 2613 4750 3031 4423 \nQ 3450 4097 3450 3541 \nQ 3450 3153 3228 2886 \nQ 3006 2619 2597 2516 \nz\n\" transform=\"scale(0.015625)\"/>\n       </defs>\n       <use xlink:href=\"#DejaVuSans-33\"/>\n      </g>\n     </g>\n    </g>\n    <g id=\"ytick_6\">\n     <g id=\"line2d_11\">\n      <path d=\"M 34.193437 52.421292 \nL 237.102528 52.421292 \n\" clip-path=\"url(#pa088df5070)\" style=\"fill: none; stroke: #ffffff; stroke-linecap: round\"/>\n     </g>\n     <g id=\"text_11\">\n      <!-- 4 -->\n      <g style=\"fill: #262626\" transform=\"translate(17.694687 56.600433) scale(0.11 -0.11)\">\n       <use xlink:href=\"#DejaVuSans-34\"/>\n      </g>\n     </g>\n    </g>\n    <g id=\"ytick_7\">\n     <g id=\"line2d_12\">\n      <path d=\"M 34.193437 22.318125 \nL 237.102528 22.318125 \n\" clip-path=\"url(#pa088df5070)\" style=\"fill: none; stroke: #ffffff; stroke-linecap: round\"/>\n     </g>\n     <g id=\"text_12\">\n      <!-- 5 -->\n      <g style=\"fill: #262626\" transform=\"translate(17.694687 26.497266) scale(0.11 -0.11)\">\n       <defs>\n        <path id=\"DejaVuSans-35\" d=\"M 691 4666 \nL 3169 4666 \nL 3169 4134 \nL 1269 4134 \nL 1269 2991 \nQ 1406 3038 1543 3061 \nQ 1681 3084 1819 3084 \nQ 2600 3084 3056 2656 \nQ 3513 2228 3513 1497 \nQ 3513 744 3044 326 \nQ 2575 -91 1722 -91 \nQ 1428 -91 1123 -41 \nQ 819 9 494 109 \nL 494 744 \nQ 775 591 1075 516 \nQ 1375 441 1709 441 \nQ 2250 441 2565 725 \nQ 2881 1009 2881 1497 \nQ 2881 1984 2565 2268 \nQ 2250 2553 1709 2553 \nQ 1456 2553 1204 2497 \nQ 953 2441 691 2322 \nL 691 4666 \nz\n\" transform=\"scale(0.015625)\"/>\n       </defs>\n       <use xlink:href=\"#DejaVuSans-35\"/>\n      </g>\n     </g>\n    </g>\n   </g>\n   <g id=\"line2d_13\">\n    <path d=\"M 43.416578 172.632486 \nL 60.034848 172.34277 \nL 71.482992 171.932949 \nL 80.346069 171.403568 \nL 87.731968 170.748017 \nL 94.194625 169.956486 \nL 100.103344 169.008118 \nL 105.458122 167.929457 \nL 110.62825 166.667837 \nL 115.798378 165.180255 \nL 121.153154 163.409437 \nL 127.24652 161.151993 \nL 135.924958 157.669379 \nL 146.265215 153.566468 \nL 152.358581 151.39564 \nL 157.713356 149.719323 \nL 162.883486 148.328785 \nL 168.238262 147.124198 \nL 173.777684 146.112559 \nL 179.686404 145.263661 \nL 186.149065 144.560553 \nL 193.534964 143.981918 \nL 202.398041 143.517065 \nL 213.476886 143.167194 \nL 227.879388 142.93227 \nL 227.879388 142.93227 \n\" clip-path=\"url(#pa088df5070)\" style=\"fill: none; stroke: #4c72b0; stroke-width: 2; stroke-linecap: round\"/>\n   </g>\n   <g id=\"line2d_14\">\n    <path d=\"M 43.416578 172.632486 \nL 60.034848 172.34277 \nL 71.482992 171.932949 \nL 80.346069 171.403568 \nL 87.731968 170.748017 \nL 94.194625 169.956486 \nL 100.103344 169.008118 \nL 105.458122 167.929457 \nL 110.62825 166.667837 \nL 115.798378 165.180255 \nL 121.153154 163.409437 \nL 127.24652 161.151993 \nL 135.924958 157.669379 \nL 146.265215 153.566468 \nL 152.358581 151.39564 \nL 157.713356 149.719323 \nL 162.883486 148.328785 \nL 168.238262 147.124198 \nL 173.777684 146.112559 \nL 179.686404 145.263661 \nL 186.149065 144.560553 \nL 193.534964 143.981918 \nL 202.398041 143.517065 \nL 213.476886 143.167194 \nL 227.879388 142.93227 \nL 227.879388 142.93227 \n\" clip-path=\"url(#pa088df5070)\" style=\"fill: none; stroke: #dd8452; stroke-width: 2; stroke-linecap: round\"/>\n   </g>\n   <g id=\"patch_3\">\n    <path d=\"M 34.193437 217.988713 \nL 34.193437 22.318125 \n\" style=\"fill: none; stroke: #ffffff; stroke-width: 1.25; stroke-linejoin: miter; stroke-linecap: square\"/>\n   </g>\n   <g id=\"patch_4\">\n    <path d=\"M 237.102528 217.988713 \nL 237.102528 22.318125 \n\" style=\"fill: none; stroke: #ffffff; stroke-width: 1.25; stroke-linejoin: miter; stroke-linecap: square\"/>\n   </g>\n   <g id=\"patch_5\">\n    <path d=\"M 34.193437 217.988713 \nL 237.102528 217.988713 \n\" style=\"fill: none; stroke: #ffffff; stroke-width: 1.25; stroke-linejoin: miter; stroke-linecap: square\"/>\n   </g>\n   <g id=\"patch_6\">\n    <path d=\"M 34.193437 22.318125 \nL 237.102528 22.318125 \n\" style=\"fill: none; stroke: #ffffff; stroke-width: 1.25; stroke-linejoin: miter; stroke-linecap: square\"/>\n   </g>\n   <g id=\"text_13\">\n    <!-- Sigmoid -->\n    <g style=\"fill: #262626\" transform=\"translate(111.37142 16.318125) scale(0.12 -0.12)\">\n     <defs>\n      <path id=\"DejaVuSans-53\" d=\"M 3425 4513 \nL 3425 3897 \nQ 3066 4069 2747 4153 \nQ 2428 4238 2131 4238 \nQ 1616 4238 1336 4038 \nQ 1056 3838 1056 3469 \nQ 1056 3159 1242 3001 \nQ 1428 2844 1947 2747 \nL 2328 2669 \nQ 3034 2534 3370 2195 \nQ 3706 1856 3706 1288 \nQ 3706 609 3251 259 \nQ 2797 -91 1919 -91 \nQ 1588 -91 1214 -16 \nQ 841 59 441 206 \nL 441 856 \nQ 825 641 1194 531 \nQ 1563 422 1919 422 \nQ 2459 422 2753 634 \nQ 3047 847 3047 1241 \nQ 3047 1584 2836 1778 \nQ 2625 1972 2144 2069 \nL 1759 2144 \nQ 1053 2284 737 2584 \nQ 422 2884 422 3419 \nQ 422 4038 858 4394 \nQ 1294 4750 2059 4750 \nQ 2388 4750 2728 4690 \nQ 3069 4631 3425 4513 \nz\n\" transform=\"scale(0.015625)\"/>\n      <path id=\"DejaVuSans-69\" d=\"M 603 3500 \nL 1178 3500 \nL 1178 0 \nL 603 0 \nL 603 3500 \nz\nM 603 4863 \nL 1178 4863 \nL 1178 4134 \nL 603 4134 \nL 603 4863 \nz\n\" transform=\"scale(0.015625)\"/>\n      <path id=\"DejaVuSans-67\" d=\"M 2906 1791 \nQ 2906 2416 2648 2759 \nQ 2391 3103 1925 3103 \nQ 1463 3103 1205 2759 \nQ 947 2416 947 1791 \nQ 947 1169 1205 825 \nQ 1463 481 1925 481 \nQ 2391 481 2648 825 \nQ 2906 1169 2906 1791 \nz\nM 3481 434 \nQ 3481 -459 3084 -895 \nQ 2688 -1331 1869 -1331 \nQ 1566 -1331 1297 -1286 \nQ 1028 -1241 775 -1147 \nL 775 -588 \nQ 1028 -725 1275 -790 \nQ 1522 -856 1778 -856 \nQ 2344 -856 2625 -561 \nQ 2906 -266 2906 331 \nL 2906 616 \nQ 2728 306 2450 153 \nQ 2172 0 1784 0 \nQ 1141 0 747 490 \nQ 353 981 353 1791 \nQ 353 2603 747 3093 \nQ 1141 3584 1784 3584 \nQ 2172 3584 2450 3431 \nQ 2728 3278 2906 2969 \nL 2906 3500 \nL 3481 3500 \nL 3481 434 \nz\n\" transform=\"scale(0.015625)\"/>\n      <path id=\"DejaVuSans-6d\" d=\"M 3328 2828 \nQ 3544 3216 3844 3400 \nQ 4144 3584 4550 3584 \nQ 5097 3584 5394 3201 \nQ 5691 2819 5691 2113 \nL 5691 0 \nL 5113 0 \nL 5113 2094 \nQ 5113 2597 4934 2840 \nQ 4756 3084 4391 3084 \nQ 3944 3084 3684 2787 \nQ 3425 2491 3425 1978 \nL 3425 0 \nL 2847 0 \nL 2847 2094 \nQ 2847 2600 2669 2842 \nQ 2491 3084 2119 3084 \nQ 1678 3084 1418 2786 \nQ 1159 2488 1159 1978 \nL 1159 0 \nL 581 0 \nL 581 3500 \nL 1159 3500 \nL 1159 2956 \nQ 1356 3278 1631 3431 \nQ 1906 3584 2284 3584 \nQ 2666 3584 2933 3390 \nQ 3200 3197 3328 2828 \nz\n\" transform=\"scale(0.015625)\"/>\n      <path id=\"DejaVuSans-6f\" d=\"M 1959 3097 \nQ 1497 3097 1228 2736 \nQ 959 2375 959 1747 \nQ 959 1119 1226 758 \nQ 1494 397 1959 397 \nQ 2419 397 2687 759 \nQ 2956 1122 2956 1747 \nQ 2956 2369 2687 2733 \nQ 2419 3097 1959 3097 \nz\nM 1959 3584 \nQ 2709 3584 3137 3096 \nQ 3566 2609 3566 1747 \nQ 3566 888 3137 398 \nQ 2709 -91 1959 -91 \nQ 1206 -91 779 398 \nQ 353 888 353 1747 \nQ 353 2609 779 3096 \nQ 1206 3584 1959 3584 \nz\n\" transform=\"scale(0.015625)\"/>\n      <path id=\"DejaVuSans-64\" d=\"M 2906 2969 \nL 2906 4863 \nL 3481 4863 \nL 3481 0 \nL 2906 0 \nL 2906 525 \nQ 2725 213 2448 61 \nQ 2172 -91 1784 -91 \nQ 1150 -91 751 415 \nQ 353 922 353 1747 \nQ 353 2572 751 3078 \nQ 1150 3584 1784 3584 \nQ 2172 3584 2448 3432 \nQ 2725 3281 2906 2969 \nz\nM 947 1747 \nQ 947 1113 1208 752 \nQ 1469 391 1925 391 \nQ 2381 391 2643 752 \nQ 2906 1113 2906 1747 \nQ 2906 2381 2643 2742 \nQ 2381 3103 1925 3103 \nQ 1469 3103 1208 2742 \nQ 947 2381 947 1747 \nz\n\" transform=\"scale(0.015625)\"/>\n     </defs>\n     <use xlink:href=\"#DejaVuSans-53\"/>\n     <use xlink:href=\"#DejaVuSans-69\" x=\"63.476562\"/>\n     <use xlink:href=\"#DejaVuSans-67\" x=\"91.259766\"/>\n     <use xlink:href=\"#DejaVuSans-6d\" x=\"154.736328\"/>\n     <use xlink:href=\"#DejaVuSans-6f\" x=\"252.148438\"/>\n     <use xlink:href=\"#DejaVuSans-69\" x=\"313.330078\"/>\n     <use xlink:href=\"#DejaVuSans-64\" x=\"341.113281\"/>\n    </g>\n   </g>\n   <g id=\"legend_1\">\n    <g id=\"patch_7\">\n     <path d=\"M 146.325028 63.41 \nL 229.402528 63.41 \nQ 231.602528 63.41 231.602528 61.21 \nL 231.602528 30.018125 \nQ 231.602528 27.818125 229.402528 27.818125 \nL 146.325028 27.818125 \nQ 144.125028 27.818125 144.125028 30.018125 \nL 144.125028 61.21 \nQ 144.125028 63.41 146.325028 63.41 \nz\n\" style=\"fill: #eaeaf2; opacity: 0.8; stroke: #cccccc; stroke-linejoin: miter\"/>\n    </g>\n    <g id=\"line2d_15\">\n     <path d=\"M 148.525028 36.726406 \nL 159.525028 36.726406 \nL 170.525028 36.726406 \n\" style=\"fill: none; stroke: #4c72b0; stroke-width: 2; stroke-linecap: round\"/>\n    </g>\n    <g id=\"text_14\">\n     <!-- ActFn -->\n     <g style=\"fill: #262626\" transform=\"translate(179.325028 40.576406) scale(0.11 -0.11)\">\n      <defs>\n       <path id=\"DejaVuSans-41\" d=\"M 2188 4044 \nL 1331 1722 \nL 3047 1722 \nL 2188 4044 \nz\nM 1831 4666 \nL 2547 4666 \nL 4325 0 \nL 3669 0 \nL 3244 1197 \nL 1141 1197 \nL 716 0 \nL 50 0 \nL 1831 4666 \nz\n\" transform=\"scale(0.015625)\"/>\n       <path id=\"DejaVuSans-63\" d=\"M 3122 3366 \nL 3122 2828 \nQ 2878 2963 2633 3030 \nQ 2388 3097 2138 3097 \nQ 1578 3097 1268 2742 \nQ 959 2388 959 1747 \nQ 959 1106 1268 751 \nQ 1578 397 2138 397 \nQ 2388 397 2633 464 \nQ 2878 531 3122 666 \nL 3122 134 \nQ 2881 22 2623 -34 \nQ 2366 -91 2075 -91 \nQ 1284 -91 818 406 \nQ 353 903 353 1747 \nQ 353 2603 823 3093 \nQ 1294 3584 2113 3584 \nQ 2378 3584 2631 3529 \nQ 2884 3475 3122 3366 \nz\n\" transform=\"scale(0.015625)\"/>\n       <path id=\"DejaVuSans-74\" d=\"M 1172 4494 \nL 1172 3500 \nL 2356 3500 \nL 2356 3053 \nL 1172 3053 \nL 1172 1153 \nQ 1172 725 1289 603 \nQ 1406 481 1766 481 \nL 2356 481 \nL 2356 0 \nL 1766 0 \nQ 1100 0 847 248 \nQ 594 497 594 1153 \nL 594 3053 \nL 172 3053 \nL 172 3500 \nL 594 3500 \nL 594 4494 \nL 1172 4494 \nz\n\" transform=\"scale(0.015625)\"/>\n       <path id=\"DejaVuSans-46\" d=\"M 628 4666 \nL 3309 4666 \nL 3309 4134 \nL 1259 4134 \nL 1259 2759 \nL 3109 2759 \nL 3109 2228 \nL 1259 2228 \nL 1259 0 \nL 628 0 \nL 628 4666 \nz\n\" transform=\"scale(0.015625)\"/>\n       <path id=\"DejaVuSans-6e\" d=\"M 3513 2113 \nL 3513 0 \nL 2938 0 \nL 2938 2094 \nQ 2938 2591 2744 2837 \nQ 2550 3084 2163 3084 \nQ 1697 3084 1428 2787 \nQ 1159 2491 1159 1978 \nL 1159 0 \nL 581 0 \nL 581 3500 \nL 1159 3500 \nL 1159 2956 \nQ 1366 3272 1645 3428 \nQ 1925 3584 2291 3584 \nQ 2894 3584 3203 3211 \nQ 3513 2838 3513 2113 \nz\n\" transform=\"scale(0.015625)\"/>\n      </defs>\n      <use xlink:href=\"#DejaVuSans-41\"/>\n      <use xlink:href=\"#DejaVuSans-63\" x=\"66.658203\"/>\n      <use xlink:href=\"#DejaVuSans-74\" x=\"121.638672\"/>\n      <use xlink:href=\"#DejaVuSans-46\" x=\"160.847656\"/>\n      <use xlink:href=\"#DejaVuSans-6e\" x=\"218.367188\"/>\n     </g>\n    </g>\n    <g id=\"line2d_16\">\n     <path d=\"M 148.525028 52.872344 \nL 159.525028 52.872344 \nL 170.525028 52.872344 \n\" style=\"fill: none; stroke: #dd8452; stroke-width: 2; stroke-linecap: round\"/>\n    </g>\n    <g id=\"text_15\">\n     <!-- Gradient -->\n     <g style=\"fill: #262626\" transform=\"translate(179.325028 56.722344) scale(0.11 -0.11)\">\n      <defs>\n       <path id=\"DejaVuSans-47\" d=\"M 3809 666 \nL 3809 1919 \nL 2778 1919 \nL 2778 2438 \nL 4434 2438 \nL 4434 434 \nQ 4069 175 3628 42 \nQ 3188 -91 2688 -91 \nQ 1594 -91 976 548 \nQ 359 1188 359 2328 \nQ 359 3472 976 4111 \nQ 1594 4750 2688 4750 \nQ 3144 4750 3555 4637 \nQ 3966 4525 4313 4306 \nL 4313 3634 \nQ 3963 3931 3569 4081 \nQ 3175 4231 2741 4231 \nQ 1884 4231 1454 3753 \nQ 1025 3275 1025 2328 \nQ 1025 1384 1454 906 \nQ 1884 428 2741 428 \nQ 3075 428 3337 486 \nQ 3600 544 3809 666 \nz\n\" transform=\"scale(0.015625)\"/>\n       <path id=\"DejaVuSans-72\" d=\"M 2631 2963 \nQ 2534 3019 2420 3045 \nQ 2306 3072 2169 3072 \nQ 1681 3072 1420 2755 \nQ 1159 2438 1159 1844 \nL 1159 0 \nL 581 0 \nL 581 3500 \nL 1159 3500 \nL 1159 2956 \nQ 1341 3275 1631 3429 \nQ 1922 3584 2338 3584 \nQ 2397 3584 2469 3576 \nQ 2541 3569 2628 3553 \nL 2631 2963 \nz\n\" transform=\"scale(0.015625)\"/>\n       <path id=\"DejaVuSans-61\" d=\"M 2194 1759 \nQ 1497 1759 1228 1600 \nQ 959 1441 959 1056 \nQ 959 750 1161 570 \nQ 1363 391 1709 391 \nQ 2188 391 2477 730 \nQ 2766 1069 2766 1631 \nL 2766 1759 \nL 2194 1759 \nz\nM 3341 1997 \nL 3341 0 \nL 2766 0 \nL 2766 531 \nQ 2569 213 2275 61 \nQ 1981 -91 1556 -91 \nQ 1019 -91 701 211 \nQ 384 513 384 1019 \nQ 384 1609 779 1909 \nQ 1175 2209 1959 2209 \nL 2766 2209 \nL 2766 2266 \nQ 2766 2663 2505 2880 \nQ 2244 3097 1772 3097 \nQ 1472 3097 1187 3025 \nQ 903 2953 641 2809 \nL 641 3341 \nQ 956 3463 1253 3523 \nQ 1550 3584 1831 3584 \nQ 2591 3584 2966 3190 \nQ 3341 2797 3341 1997 \nz\n\" transform=\"scale(0.015625)\"/>\n       <path id=\"DejaVuSans-65\" d=\"M 3597 1894 \nL 3597 1613 \nL 953 1613 \nQ 991 1019 1311 708 \nQ 1631 397 2203 397 \nQ 2534 397 2845 478 \nQ 3156 559 3463 722 \nL 3463 178 \nQ 3153 47 2828 -22 \nQ 2503 -91 2169 -91 \nQ 1331 -91 842 396 \nQ 353 884 353 1716 \nQ 353 2575 817 3079 \nQ 1281 3584 2069 3584 \nQ 2775 3584 3186 3129 \nQ 3597 2675 3597 1894 \nz\nM 3022 2063 \nQ 3016 2534 2758 2815 \nQ 2500 3097 2075 3097 \nQ 1594 3097 1305 2825 \nQ 1016 2553 972 2059 \nL 3022 2063 \nz\n\" transform=\"scale(0.015625)\"/>\n      </defs>\n      <use xlink:href=\"#DejaVuSans-47\"/>\n      <use xlink:href=\"#DejaVuSans-72\" x=\"77.490234\"/>\n      <use xlink:href=\"#DejaVuSans-61\" x=\"118.603516\"/>\n      <use xlink:href=\"#DejaVuSans-64\" x=\"179.882812\"/>\n      <use xlink:href=\"#DejaVuSans-69\" x=\"243.359375\"/>\n      <use xlink:href=\"#DejaVuSans-65\" x=\"271.142578\"/>\n      <use xlink:href=\"#DejaVuSans-6e\" x=\"332.666016\"/>\n      <use xlink:href=\"#DejaVuSans-74\" x=\"396.044922\"/>\n     </g>\n    </g>\n   </g>\n  </g>\n  <g id=\"axes_2\">\n   <g id=\"patch_8\">\n    <path d=\"M 277.684347 217.988713 \nL 480.593437 217.988713 \nL 480.593437 22.318125 \nL 277.684347 22.318125 \nz\n\" style=\"fill: #eaeaf2\"/>\n   </g>\n   <g id=\"matplotlib.axis_3\">\n    <g id=\"xtick_6\">\n     <g id=\"line2d_17\">\n      <path d=\"M 305.353768 217.988713 \nL 305.353768 22.318125 \n\" clip-path=\"url(#pfae0f99979)\" style=\"fill: none; stroke: #ffffff; stroke-linecap: round\"/>\n     </g>\n     <g id=\"text_16\">\n      <!-- −4 -->\n      <g style=\"fill: #262626\" transform=\"translate(297.245565 235.846994) scale(0.11 -0.11)\">\n       <use xlink:href=\"#DejaVuSans-2212\"/>\n       <use xlink:href=\"#DejaVuSans-34\" x=\"83.789062\"/>\n      </g>\n     </g>\n    </g>\n    <g id=\"xtick_7\">\n     <g id=\"line2d_18\">\n      <path d=\"M 342.24633 217.988713 \nL 342.24633 22.318125 \n\" clip-path=\"url(#pfae0f99979)\" style=\"fill: none; stroke: #ffffff; stroke-linecap: round\"/>\n     </g>\n     <g id=\"text_17\">\n      <!-- −2 -->\n      <g style=\"fill: #262626\" transform=\"translate(334.138127 235.846994) scale(0.11 -0.11)\">\n       <use xlink:href=\"#DejaVuSans-2212\"/>\n       <use xlink:href=\"#DejaVuSans-32\" x=\"83.789062\"/>\n      </g>\n     </g>\n    </g>\n    <g id=\"xtick_8\">\n     <g id=\"line2d_19\">\n      <path d=\"M 379.138892 217.988713 \nL 379.138892 22.318125 \n\" clip-path=\"url(#pfae0f99979)\" style=\"fill: none; stroke: #ffffff; stroke-linecap: round\"/>\n     </g>\n     <g id=\"text_18\">\n      <!-- 0 -->\n      <g style=\"fill: #262626\" transform=\"translate(375.639517 235.846994) scale(0.11 -0.11)\">\n       <use xlink:href=\"#DejaVuSans-30\"/>\n      </g>\n     </g>\n    </g>\n    <g id=\"xtick_9\">\n     <g id=\"line2d_20\">\n      <path d=\"M 416.031454 217.988713 \nL 416.031454 22.318125 \n\" clip-path=\"url(#pfae0f99979)\" style=\"fill: none; stroke: #ffffff; stroke-linecap: round\"/>\n     </g>\n     <g id=\"text_19\">\n      <!-- 2 -->\n      <g style=\"fill: #262626\" transform=\"translate(412.532079 235.846994) scale(0.11 -0.11)\">\n       <use xlink:href=\"#DejaVuSans-32\"/>\n      </g>\n     </g>\n    </g>\n    <g id=\"xtick_10\">\n     <g id=\"line2d_21\">\n      <path d=\"M 452.924016 217.988713 \nL 452.924016 22.318125 \n\" clip-path=\"url(#pfae0f99979)\" style=\"fill: none; stroke: #ffffff; stroke-linecap: round\"/>\n     </g>\n     <g id=\"text_20\">\n      <!-- 4 -->\n      <g style=\"fill: #262626\" transform=\"translate(449.424641 235.846994) scale(0.11 -0.11)\">\n       <use xlink:href=\"#DejaVuSans-34\"/>\n      </g>\n     </g>\n    </g>\n   </g>\n   <g id=\"matplotlib.axis_4\">\n    <g id=\"ytick_8\">\n     <g id=\"line2d_22\">\n      <path d=\"M 277.684347 202.93713 \nL 480.593437 202.93713 \n\" clip-path=\"url(#pfae0f99979)\" style=\"fill: none; stroke: #ffffff; stroke-linecap: round\"/>\n     </g>\n     <g id=\"text_21\">\n      <!-- −1 -->\n      <g style=\"fill: #262626\" transform=\"translate(251.96794 207.11627) scale(0.11 -0.11)\">\n       <use xlink:href=\"#DejaVuSans-2212\"/>\n       <use xlink:href=\"#DejaVuSans-31\" x=\"83.789062\"/>\n      </g>\n     </g>\n    </g>\n    <g id=\"ytick_9\">\n     <g id=\"line2d_23\">\n      <path d=\"M 277.684347 172.833962 \nL 480.593437 172.833962 \n\" clip-path=\"url(#pfae0f99979)\" style=\"fill: none; stroke: #ffffff; stroke-linecap: round\"/>\n     </g>\n     <g id=\"text_22\">\n      <!-- 0 -->\n      <g style=\"fill: #262626\" transform=\"translate(261.185597 177.013103) scale(0.11 -0.11)\">\n       <use xlink:href=\"#DejaVuSans-30\"/>\n      </g>\n     </g>\n    </g>\n    <g id=\"ytick_10\">\n     <g id=\"line2d_24\">\n      <path d=\"M 277.684347 142.730795 \nL 480.593437 142.730795 \n\" clip-path=\"url(#pfae0f99979)\" style=\"fill: none; stroke: #ffffff; stroke-linecap: round\"/>\n     </g>\n     <g id=\"text_23\">\n      <!-- 1 -->\n      <g style=\"fill: #262626\" transform=\"translate(261.185597 146.909935) scale(0.11 -0.11)\">\n       <use xlink:href=\"#DejaVuSans-31\"/>\n      </g>\n     </g>\n    </g>\n    <g id=\"ytick_11\">\n     <g id=\"line2d_25\">\n      <path d=\"M 277.684347 112.627627 \nL 480.593437 112.627627 \n\" clip-path=\"url(#pfae0f99979)\" style=\"fill: none; stroke: #ffffff; stroke-linecap: round\"/>\n     </g>\n     <g id=\"text_24\">\n      <!-- 2 -->\n      <g style=\"fill: #262626\" transform=\"translate(261.185597 116.806768) scale(0.11 -0.11)\">\n       <use xlink:href=\"#DejaVuSans-32\"/>\n      </g>\n     </g>\n    </g>\n    <g id=\"ytick_12\">\n     <g id=\"line2d_26\">\n      <path d=\"M 277.684347 82.52446 \nL 480.593437 82.52446 \n\" clip-path=\"url(#pfae0f99979)\" style=\"fill: none; stroke: #ffffff; stroke-linecap: round\"/>\n     </g>\n     <g id=\"text_25\">\n      <!-- 3 -->\n      <g style=\"fill: #262626\" transform=\"translate(261.185597 86.7036) scale(0.11 -0.11)\">\n       <use xlink:href=\"#DejaVuSans-33\"/>\n      </g>\n     </g>\n    </g>\n    <g id=\"ytick_13\">\n     <g id=\"line2d_27\">\n      <path d=\"M 277.684347 52.421292 \nL 480.593437 52.421292 \n\" clip-path=\"url(#pfae0f99979)\" style=\"fill: none; stroke: #ffffff; stroke-linecap: round\"/>\n     </g>\n     <g id=\"text_26\">\n      <!-- 4 -->\n      <g style=\"fill: #262626\" transform=\"translate(261.185597 56.600433) scale(0.11 -0.11)\">\n       <use xlink:href=\"#DejaVuSans-34\"/>\n      </g>\n     </g>\n    </g>\n    <g id=\"ytick_14\">\n     <g id=\"line2d_28\">\n      <path d=\"M 277.684347 22.318125 \nL 480.593437 22.318125 \n\" clip-path=\"url(#pfae0f99979)\" style=\"fill: none; stroke: #ffffff; stroke-linecap: round\"/>\n     </g>\n     <g id=\"text_27\">\n      <!-- 5 -->\n      <g style=\"fill: #262626\" transform=\"translate(261.185597 26.497266) scale(0.11 -0.11)\">\n       <use xlink:href=\"#DejaVuSans-35\"/>\n      </g>\n     </g>\n    </g>\n   </g>\n   <g id=\"line2d_29\">\n    <path d=\"M 286.907487 202.934393 \nL 321.990501 202.814727 \nL 332.146114 202.570506 \nL 338.608775 202.202864 \nL 343.409606 201.711639 \nL 347.287203 201.090842 \nL 350.42621 200.374173 \nL 353.195922 199.527301 \nL 355.780985 198.505418 \nL 358.181403 197.311118 \nL 360.397173 195.960386 \nL 362.612941 194.336467 \nL 364.644063 192.582096 \nL 366.859834 190.357668 \nL 369.075603 187.800485 \nL 371.476019 184.666353 \nL 374.061083 180.917468 \nL 377.569385 175.389136 \nL 384.770643 163.918599 \nL 387.540355 159.998778 \nL 389.940772 156.97822 \nL 392.156541 154.531928 \nL 394.37231 152.41714 \nL 396.58808 150.619564 \nL 398.80385 149.113433 \nL 401.019618 147.866625 \nL 403.420036 146.768683 \nL 406.005099 145.832562 \nL 408.959458 145.014666 \nL 412.283113 144.342118 \nL 416.160709 143.798877 \nL 420.776897 143.38285 \nL 426.87026 143.069359 \nL 435.54869 142.863376 \nL 450.874428 142.75601 \nL 471.370297 142.733531 \nL 471.370297 142.733531 \n\" clip-path=\"url(#pfae0f99979)\" style=\"fill: none; stroke: #4c72b0; stroke-width: 2; stroke-linecap: round\"/>\n   </g>\n   <g id=\"line2d_30\">\n    <path d=\"M 286.907487 202.934393 \nL 321.990501 202.814727 \nL 332.146114 202.570506 \nL 338.608775 202.202864 \nL 343.409606 201.711639 \nL 347.287203 201.090842 \nL 350.42621 200.374173 \nL 353.195922 199.527301 \nL 355.780985 198.505418 \nL 358.181403 197.311118 \nL 360.397173 195.960386 \nL 362.612941 194.336467 \nL 364.644063 192.582096 \nL 366.859834 190.357668 \nL 369.075603 187.800485 \nL 371.476019 184.666353 \nL 374.061083 180.917468 \nL 377.569385 175.389136 \nL 384.770643 163.918599 \nL 387.540355 159.998778 \nL 389.940772 156.97822 \nL 392.156541 154.531928 \nL 394.37231 152.41714 \nL 396.58808 150.619564 \nL 398.80385 149.113433 \nL 401.019618 147.866625 \nL 403.420036 146.768683 \nL 406.005099 145.832562 \nL 408.959458 145.014666 \nL 412.283113 144.342118 \nL 416.160709 143.798877 \nL 420.776897 143.38285 \nL 426.87026 143.069359 \nL 435.54869 142.863376 \nL 450.874428 142.75601 \nL 471.370297 142.733531 \nL 471.370297 142.733531 \n\" clip-path=\"url(#pfae0f99979)\" style=\"fill: none; stroke: #dd8452; stroke-width: 2; stroke-linecap: round\"/>\n   </g>\n   <g id=\"patch_9\">\n    <path d=\"M 277.684347 217.988713 \nL 277.684347 22.318125 \n\" style=\"fill: none; stroke: #ffffff; stroke-width: 1.25; stroke-linejoin: miter; stroke-linecap: square\"/>\n   </g>\n   <g id=\"patch_10\">\n    <path d=\"M 480.593437 217.988713 \nL 480.593437 22.318125 \n\" style=\"fill: none; stroke: #ffffff; stroke-width: 1.25; stroke-linejoin: miter; stroke-linecap: square\"/>\n   </g>\n   <g id=\"patch_11\">\n    <path d=\"M 277.684347 217.988713 \nL 480.593438 217.988713 \n\" style=\"fill: none; stroke: #ffffff; stroke-width: 1.25; stroke-linejoin: miter; stroke-linecap: square\"/>\n   </g>\n   <g id=\"patch_12\">\n    <path d=\"M 277.684347 22.318125 \nL 480.593438 22.318125 \n\" style=\"fill: none; stroke: #ffffff; stroke-width: 1.25; stroke-linejoin: miter; stroke-linecap: square\"/>\n   </g>\n   <g id=\"text_28\">\n    <!-- Tanh -->\n    <g style=\"fill: #262626\" transform=\"translate(365.18233 16.318125) scale(0.12 -0.12)\">\n     <defs>\n      <path id=\"DejaVuSans-54\" d=\"M -19 4666 \nL 3928 4666 \nL 3928 4134 \nL 2272 4134 \nL 2272 0 \nL 1638 0 \nL 1638 4134 \nL -19 4134 \nL -19 4666 \nz\n\" transform=\"scale(0.015625)\"/>\n      <path id=\"DejaVuSans-68\" d=\"M 3513 2113 \nL 3513 0 \nL 2938 0 \nL 2938 2094 \nQ 2938 2591 2744 2837 \nQ 2550 3084 2163 3084 \nQ 1697 3084 1428 2787 \nQ 1159 2491 1159 1978 \nL 1159 0 \nL 581 0 \nL 581 4863 \nL 1159 4863 \nL 1159 2956 \nQ 1366 3272 1645 3428 \nQ 1925 3584 2291 3584 \nQ 2894 3584 3203 3211 \nQ 3513 2838 3513 2113 \nz\n\" transform=\"scale(0.015625)\"/>\n     </defs>\n     <use xlink:href=\"#DejaVuSans-54\"/>\n     <use xlink:href=\"#DejaVuSans-61\" x=\"44.583984\"/>\n     <use xlink:href=\"#DejaVuSans-6e\" x=\"105.863281\"/>\n     <use xlink:href=\"#DejaVuSans-68\" x=\"169.242188\"/>\n    </g>\n   </g>\n   <g id=\"legend_2\">\n    <g id=\"patch_13\">\n     <path d=\"M 389.815937 63.41 \nL 472.893437 63.41 \nQ 475.093437 63.41 475.093437 61.21 \nL 475.093437 30.018125 \nQ 475.093437 27.818125 472.893437 27.818125 \nL 389.815937 27.818125 \nQ 387.615937 27.818125 387.615937 30.018125 \nL 387.615937 61.21 \nQ 387.615937 63.41 389.815937 63.41 \nz\n\" style=\"fill: #eaeaf2; opacity: 0.8; stroke: #cccccc; stroke-linejoin: miter\"/>\n    </g>\n    <g id=\"line2d_31\">\n     <path d=\"M 392.015937 36.726406 \nL 403.015937 36.726406 \nL 414.015937 36.726406 \n\" style=\"fill: none; stroke: #4c72b0; stroke-width: 2; stroke-linecap: round\"/>\n    </g>\n    <g id=\"text_29\">\n     <!-- ActFn -->\n     <g style=\"fill: #262626\" transform=\"translate(422.815937 40.576406) scale(0.11 -0.11)\">\n      <use xlink:href=\"#DejaVuSans-41\"/>\n      <use xlink:href=\"#DejaVuSans-63\" x=\"66.658203\"/>\n      <use xlink:href=\"#DejaVuSans-74\" x=\"121.638672\"/>\n      <use xlink:href=\"#DejaVuSans-46\" x=\"160.847656\"/>\n      <use xlink:href=\"#DejaVuSans-6e\" x=\"218.367188\"/>\n     </g>\n    </g>\n    <g id=\"line2d_32\">\n     <path d=\"M 392.015937 52.872344 \nL 403.015937 52.872344 \nL 414.015937 52.872344 \n\" style=\"fill: none; stroke: #dd8452; stroke-width: 2; stroke-linecap: round\"/>\n    </g>\n    <g id=\"text_30\">\n     <!-- Gradient -->\n     <g style=\"fill: #262626\" transform=\"translate(422.815937 56.722344) scale(0.11 -0.11)\">\n      <use xlink:href=\"#DejaVuSans-47\"/>\n      <use xlink:href=\"#DejaVuSans-72\" x=\"77.490234\"/>\n      <use xlink:href=\"#DejaVuSans-61\" x=\"118.603516\"/>\n      <use xlink:href=\"#DejaVuSans-64\" x=\"179.882812\"/>\n      <use xlink:href=\"#DejaVuSans-69\" x=\"243.359375\"/>\n      <use xlink:href=\"#DejaVuSans-65\" x=\"271.142578\"/>\n      <use xlink:href=\"#DejaVuSans-6e\" x=\"332.666016\"/>\n      <use xlink:href=\"#DejaVuSans-74\" x=\"396.044922\"/>\n     </g>\n    </g>\n   </g>\n  </g>\n  <g id=\"axes_3\">\n   <g id=\"patch_14\">\n    <path d=\"M 34.193437 452.793419 \nL 237.102528 452.793419 \nL 237.102528 257.122831 \nL 34.193437 257.122831 \nz\n\" style=\"fill: #eaeaf2\"/>\n   </g>\n   <g id=\"matplotlib.axis_5\">\n    <g id=\"xtick_11\">\n     <g id=\"line2d_33\">\n      <path d=\"M 34.193437 452.793419 \nL 34.193437 257.122831 \n\" clip-path=\"url(#pb34303442c)\" style=\"fill: none; stroke: #ffffff; stroke-linecap: round\"/>\n     </g>\n     <g id=\"text_31\">\n      <!-- 0.0 -->\n      <g style=\"fill: #262626\" transform=\"translate(25.446719 470.6517) scale(0.11 -0.11)\">\n       <defs>\n        <path id=\"DejaVuSans-2e\" d=\"M 684 794 \nL 1344 794 \nL 1344 0 \nL 684 0 \nL 684 794 \nz\n\" transform=\"scale(0.015625)\"/>\n       </defs>\n       <use xlink:href=\"#DejaVuSans-30\"/>\n       <use xlink:href=\"#DejaVuSans-2e\" x=\"63.623047\"/>\n       <use xlink:href=\"#DejaVuSans-30\" x=\"95.410156\"/>\n      </g>\n     </g>\n    </g>\n    <g id=\"xtick_12\">\n     <g id=\"line2d_34\">\n      <path d=\"M 74.775256 452.793419 \nL 74.775256 257.122831 \n\" clip-path=\"url(#pb34303442c)\" style=\"fill: none; stroke: #ffffff; stroke-linecap: round\"/>\n     </g>\n     <g id=\"text_32\">\n      <!-- 0.2 -->\n      <g style=\"fill: #262626\" transform=\"translate(66.028537 470.6517) scale(0.11 -0.11)\">\n       <use xlink:href=\"#DejaVuSans-30\"/>\n       <use xlink:href=\"#DejaVuSans-2e\" x=\"63.623047\"/>\n       <use xlink:href=\"#DejaVuSans-32\" x=\"95.410156\"/>\n      </g>\n     </g>\n    </g>\n    <g id=\"xtick_13\">\n     <g id=\"line2d_35\">\n      <path d=\"M 115.357074 452.793419 \nL 115.357074 257.122831 \n\" clip-path=\"url(#pb34303442c)\" style=\"fill: none; stroke: #ffffff; stroke-linecap: round\"/>\n     </g>\n     <g id=\"text_33\">\n      <!-- 0.4 -->\n      <g style=\"fill: #262626\" transform=\"translate(106.610355 470.6517) scale(0.11 -0.11)\">\n       <use xlink:href=\"#DejaVuSans-30\"/>\n       <use xlink:href=\"#DejaVuSans-2e\" x=\"63.623047\"/>\n       <use xlink:href=\"#DejaVuSans-34\" x=\"95.410156\"/>\n      </g>\n     </g>\n    </g>\n    <g id=\"xtick_14\">\n     <g id=\"line2d_36\">\n      <path d=\"M 155.938892 452.793419 \nL 155.938892 257.122831 \n\" clip-path=\"url(#pb34303442c)\" style=\"fill: none; stroke: #ffffff; stroke-linecap: round\"/>\n     </g>\n     <g id=\"text_34\">\n      <!-- 0.6 -->\n      <g style=\"fill: #262626\" transform=\"translate(147.192173 470.6517) scale(0.11 -0.11)\">\n       <defs>\n        <path id=\"DejaVuSans-36\" d=\"M 2113 2584 \nQ 1688 2584 1439 2293 \nQ 1191 2003 1191 1497 \nQ 1191 994 1439 701 \nQ 1688 409 2113 409 \nQ 2538 409 2786 701 \nQ 3034 994 3034 1497 \nQ 3034 2003 2786 2293 \nQ 2538 2584 2113 2584 \nz\nM 3366 4563 \nL 3366 3988 \nQ 3128 4100 2886 4159 \nQ 2644 4219 2406 4219 \nQ 1781 4219 1451 3797 \nQ 1122 3375 1075 2522 \nQ 1259 2794 1537 2939 \nQ 1816 3084 2150 3084 \nQ 2853 3084 3261 2657 \nQ 3669 2231 3669 1497 \nQ 3669 778 3244 343 \nQ 2819 -91 2113 -91 \nQ 1303 -91 875 529 \nQ 447 1150 447 2328 \nQ 447 3434 972 4092 \nQ 1497 4750 2381 4750 \nQ 2619 4750 2861 4703 \nQ 3103 4656 3366 4563 \nz\n\" transform=\"scale(0.015625)\"/>\n       </defs>\n       <use xlink:href=\"#DejaVuSans-30\"/>\n       <use xlink:href=\"#DejaVuSans-2e\" x=\"63.623047\"/>\n       <use xlink:href=\"#DejaVuSans-36\" x=\"95.410156\"/>\n      </g>\n     </g>\n    </g>\n    <g id=\"xtick_15\">\n     <g id=\"line2d_37\">\n      <path d=\"M 196.52071 452.793419 \nL 196.52071 257.122831 \n\" clip-path=\"url(#pb34303442c)\" style=\"fill: none; stroke: #ffffff; stroke-linecap: round\"/>\n     </g>\n     <g id=\"text_35\">\n      <!-- 0.8 -->\n      <g style=\"fill: #262626\" transform=\"translate(187.773991 470.6517) scale(0.11 -0.11)\">\n       <defs>\n        <path id=\"DejaVuSans-38\" d=\"M 2034 2216 \nQ 1584 2216 1326 1975 \nQ 1069 1734 1069 1313 \nQ 1069 891 1326 650 \nQ 1584 409 2034 409 \nQ 2484 409 2743 651 \nQ 3003 894 3003 1313 \nQ 3003 1734 2745 1975 \nQ 2488 2216 2034 2216 \nz\nM 1403 2484 \nQ 997 2584 770 2862 \nQ 544 3141 544 3541 \nQ 544 4100 942 4425 \nQ 1341 4750 2034 4750 \nQ 2731 4750 3128 4425 \nQ 3525 4100 3525 3541 \nQ 3525 3141 3298 2862 \nQ 3072 2584 2669 2484 \nQ 3125 2378 3379 2068 \nQ 3634 1759 3634 1313 \nQ 3634 634 3220 271 \nQ 2806 -91 2034 -91 \nQ 1263 -91 848 271 \nQ 434 634 434 1313 \nQ 434 1759 690 2068 \nQ 947 2378 1403 2484 \nz\nM 1172 3481 \nQ 1172 3119 1398 2916 \nQ 1625 2713 2034 2713 \nQ 2441 2713 2670 2916 \nQ 2900 3119 2900 3481 \nQ 2900 3844 2670 4047 \nQ 2441 4250 2034 4250 \nQ 1625 4250 1398 4047 \nQ 1172 3844 1172 3481 \nz\n\" transform=\"scale(0.015625)\"/>\n       </defs>\n       <use xlink:href=\"#DejaVuSans-30\"/>\n       <use xlink:href=\"#DejaVuSans-2e\" x=\"63.623047\"/>\n       <use xlink:href=\"#DejaVuSans-38\" x=\"95.410156\"/>\n      </g>\n     </g>\n    </g>\n    <g id=\"xtick_16\">\n     <g id=\"line2d_38\">\n      <path d=\"M 237.102528 452.793419 \nL 237.102528 257.122831 \n\" clip-path=\"url(#pb34303442c)\" style=\"fill: none; stroke: #ffffff; stroke-linecap: round\"/>\n     </g>\n     <g id=\"text_36\">\n      <!-- 1.0 -->\n      <g style=\"fill: #262626\" transform=\"translate(228.35581 470.6517) scale(0.11 -0.11)\">\n       <use xlink:href=\"#DejaVuSans-31\"/>\n       <use xlink:href=\"#DejaVuSans-2e\" x=\"63.623047\"/>\n       <use xlink:href=\"#DejaVuSans-30\" x=\"95.410156\"/>\n      </g>\n     </g>\n    </g>\n   </g>\n   <g id=\"matplotlib.axis_6\">\n    <g id=\"ytick_15\">\n     <g id=\"line2d_39\">\n      <path d=\"M 34.193437 452.793419 \nL 237.102528 452.793419 \n\" clip-path=\"url(#pb34303442c)\" style=\"fill: none; stroke: #ffffff; stroke-linecap: round\"/>\n     </g>\n     <g id=\"text_37\">\n      <!-- 0.0 -->\n      <g style=\"fill: #262626\" transform=\"translate(7.2 456.97256) scale(0.11 -0.11)\">\n       <use xlink:href=\"#DejaVuSans-30\"/>\n       <use xlink:href=\"#DejaVuSans-2e\" x=\"63.623047\"/>\n       <use xlink:href=\"#DejaVuSans-30\" x=\"95.410156\"/>\n      </g>\n     </g>\n    </g>\n    <g id=\"ytick_16\">\n     <g id=\"line2d_40\">\n      <path d=\"M 34.193437 413.659301 \nL 237.102528 413.659301 \n\" clip-path=\"url(#pb34303442c)\" style=\"fill: none; stroke: #ffffff; stroke-linecap: round\"/>\n     </g>\n     <g id=\"text_38\">\n      <!-- 0.2 -->\n      <g style=\"fill: #262626\" transform=\"translate(7.2 417.838442) scale(0.11 -0.11)\">\n       <use xlink:href=\"#DejaVuSans-30\"/>\n       <use xlink:href=\"#DejaVuSans-2e\" x=\"63.623047\"/>\n       <use xlink:href=\"#DejaVuSans-32\" x=\"95.410156\"/>\n      </g>\n     </g>\n    </g>\n    <g id=\"ytick_17\">\n     <g id=\"line2d_41\">\n      <path d=\"M 34.193437 374.525184 \nL 237.102528 374.525184 \n\" clip-path=\"url(#pb34303442c)\" style=\"fill: none; stroke: #ffffff; stroke-linecap: round\"/>\n     </g>\n     <g id=\"text_39\">\n      <!-- 0.4 -->\n      <g style=\"fill: #262626\" transform=\"translate(7.2 378.704324) scale(0.11 -0.11)\">\n       <use xlink:href=\"#DejaVuSans-30\"/>\n       <use xlink:href=\"#DejaVuSans-2e\" x=\"63.623047\"/>\n       <use xlink:href=\"#DejaVuSans-34\" x=\"95.410156\"/>\n      </g>\n     </g>\n    </g>\n    <g id=\"ytick_18\">\n     <g id=\"line2d_42\">\n      <path d=\"M 34.193437 335.391066 \nL 237.102528 335.391066 \n\" clip-path=\"url(#pb34303442c)\" style=\"fill: none; stroke: #ffffff; stroke-linecap: round\"/>\n     </g>\n     <g id=\"text_40\">\n      <!-- 0.6 -->\n      <g style=\"fill: #262626\" transform=\"translate(7.2 339.570207) scale(0.11 -0.11)\">\n       <use xlink:href=\"#DejaVuSans-30\"/>\n       <use xlink:href=\"#DejaVuSans-2e\" x=\"63.623047\"/>\n       <use xlink:href=\"#DejaVuSans-36\" x=\"95.410156\"/>\n      </g>\n     </g>\n    </g>\n    <g id=\"ytick_19\">\n     <g id=\"line2d_43\">\n      <path d=\"M 34.193437 296.256949 \nL 237.102528 296.256949 \n\" clip-path=\"url(#pb34303442c)\" style=\"fill: none; stroke: #ffffff; stroke-linecap: round\"/>\n     </g>\n     <g id=\"text_41\">\n      <!-- 0.8 -->\n      <g style=\"fill: #262626\" transform=\"translate(7.2 300.436089) scale(0.11 -0.11)\">\n       <use xlink:href=\"#DejaVuSans-30\"/>\n       <use xlink:href=\"#DejaVuSans-2e\" x=\"63.623047\"/>\n       <use xlink:href=\"#DejaVuSans-38\" x=\"95.410156\"/>\n      </g>\n     </g>\n    </g>\n    <g id=\"ytick_20\">\n     <g id=\"line2d_44\">\n      <path d=\"M 34.193437 257.122831 \nL 237.102528 257.122831 \n\" clip-path=\"url(#pb34303442c)\" style=\"fill: none; stroke: #ffffff; stroke-linecap: round\"/>\n     </g>\n     <g id=\"text_42\">\n      <!-- 1.0 -->\n      <g style=\"fill: #262626\" transform=\"translate(7.2 261.301972) scale(0.11 -0.11)\">\n       <use xlink:href=\"#DejaVuSans-31\"/>\n       <use xlink:href=\"#DejaVuSans-2e\" x=\"63.623047\"/>\n       <use xlink:href=\"#DejaVuSans-30\" x=\"95.410156\"/>\n      </g>\n     </g>\n    </g>\n   </g>\n   <g id=\"patch_15\">\n    <path d=\"M 34.193437 452.793419 \nL 34.193437 257.122831 \n\" style=\"fill: none; stroke: #ffffff; stroke-width: 1.25; stroke-linejoin: miter; stroke-linecap: square\"/>\n   </g>\n   <g id=\"patch_16\">\n    <path d=\"M 237.102528 452.793419 \nL 237.102528 257.122831 \n\" style=\"fill: none; stroke: #ffffff; stroke-width: 1.25; stroke-linejoin: miter; stroke-linecap: square\"/>\n   </g>\n   <g id=\"patch_17\">\n    <path d=\"M 34.193437 452.793419 \nL 237.102528 452.793419 \n\" style=\"fill: none; stroke: #ffffff; stroke-width: 1.25; stroke-linejoin: miter; stroke-linecap: square\"/>\n   </g>\n   <g id=\"patch_18\">\n    <path d=\"M 34.193437 257.122831 \nL 237.102528 257.122831 \n\" style=\"fill: none; stroke: #ffffff; stroke-width: 1.25; stroke-linejoin: miter; stroke-linecap: square\"/>\n   </g>\n  </g>\n  <g id=\"axes_4\">\n   <g id=\"patch_19\">\n    <path d=\"M 277.684347 452.793419 \nL 480.593437 452.793419 \nL 480.593437 257.122831 \nL 277.684347 257.122831 \nz\n\" style=\"fill: #eaeaf2\"/>\n   </g>\n   <g id=\"matplotlib.axis_7\">\n    <g id=\"xtick_17\">\n     <g id=\"line2d_45\">\n      <path d=\"M 277.684347 452.793419 \nL 277.684347 257.122831 \n\" clip-path=\"url(#p2627567c96)\" style=\"fill: none; stroke: #ffffff; stroke-linecap: round\"/>\n     </g>\n     <g id=\"text_43\">\n      <!-- 0.0 -->\n      <g style=\"fill: #262626\" transform=\"translate(268.937628 470.6517) scale(0.11 -0.11)\">\n       <use xlink:href=\"#DejaVuSans-30\"/>\n       <use xlink:href=\"#DejaVuSans-2e\" x=\"63.623047\"/>\n       <use xlink:href=\"#DejaVuSans-30\" x=\"95.410156\"/>\n      </g>\n     </g>\n    </g>\n    <g id=\"xtick_18\">\n     <g id=\"line2d_46\">\n      <path d=\"M 318.266165 452.793419 \nL 318.266165 257.122831 \n\" clip-path=\"url(#p2627567c96)\" style=\"fill: none; stroke: #ffffff; stroke-linecap: round\"/>\n     </g>\n     <g id=\"text_44\">\n      <!-- 0.2 -->\n      <g style=\"fill: #262626\" transform=\"translate(309.519446 470.6517) scale(0.11 -0.11)\">\n       <use xlink:href=\"#DejaVuSans-30\"/>\n       <use xlink:href=\"#DejaVuSans-2e\" x=\"63.623047\"/>\n       <use xlink:href=\"#DejaVuSans-32\" x=\"95.410156\"/>\n      </g>\n     </g>\n    </g>\n    <g id=\"xtick_19\">\n     <g id=\"line2d_47\">\n      <path d=\"M 358.847983 452.793419 \nL 358.847983 257.122831 \n\" clip-path=\"url(#p2627567c96)\" style=\"fill: none; stroke: #ffffff; stroke-linecap: round\"/>\n     </g>\n     <g id=\"text_45\">\n      <!-- 0.4 -->\n      <g style=\"fill: #262626\" transform=\"translate(350.101264 470.6517) scale(0.11 -0.11)\">\n       <use xlink:href=\"#DejaVuSans-30\"/>\n       <use xlink:href=\"#DejaVuSans-2e\" x=\"63.623047\"/>\n       <use xlink:href=\"#DejaVuSans-34\" x=\"95.410156\"/>\n      </g>\n     </g>\n    </g>\n    <g id=\"xtick_20\">\n     <g id=\"line2d_48\">\n      <path d=\"M 399.429801 452.793419 \nL 399.429801 257.122831 \n\" clip-path=\"url(#p2627567c96)\" style=\"fill: none; stroke: #ffffff; stroke-linecap: round\"/>\n     </g>\n     <g id=\"text_46\">\n      <!-- 0.6 -->\n      <g style=\"fill: #262626\" transform=\"translate(390.683082 470.6517) scale(0.11 -0.11)\">\n       <use xlink:href=\"#DejaVuSans-30\"/>\n       <use xlink:href=\"#DejaVuSans-2e\" x=\"63.623047\"/>\n       <use xlink:href=\"#DejaVuSans-36\" x=\"95.410156\"/>\n      </g>\n     </g>\n    </g>\n    <g id=\"xtick_21\">\n     <g id=\"line2d_49\">\n      <path d=\"M 440.011619 452.793419 \nL 440.011619 257.122831 \n\" clip-path=\"url(#p2627567c96)\" style=\"fill: none; stroke: #ffffff; stroke-linecap: round\"/>\n     </g>\n     <g id=\"text_47\">\n      <!-- 0.8 -->\n      <g style=\"fill: #262626\" transform=\"translate(431.264901 470.6517) scale(0.11 -0.11)\">\n       <use xlink:href=\"#DejaVuSans-30\"/>\n       <use xlink:href=\"#DejaVuSans-2e\" x=\"63.623047\"/>\n       <use xlink:href=\"#DejaVuSans-38\" x=\"95.410156\"/>\n      </g>\n     </g>\n    </g>\n    <g id=\"xtick_22\">\n     <g id=\"line2d_50\">\n      <path d=\"M 480.593437 452.793419 \nL 480.593437 257.122831 \n\" clip-path=\"url(#p2627567c96)\" style=\"fill: none; stroke: #ffffff; stroke-linecap: round\"/>\n     </g>\n     <g id=\"text_48\">\n      <!-- 1.0 -->\n      <g style=\"fill: #262626\" transform=\"translate(471.846719 470.6517) scale(0.11 -0.11)\">\n       <use xlink:href=\"#DejaVuSans-31\"/>\n       <use xlink:href=\"#DejaVuSans-2e\" x=\"63.623047\"/>\n       <use xlink:href=\"#DejaVuSans-30\" x=\"95.410156\"/>\n      </g>\n     </g>\n    </g>\n   </g>\n   <g id=\"matplotlib.axis_8\">\n    <g id=\"ytick_21\">\n     <g id=\"line2d_51\">\n      <path d=\"M 277.684347 452.793419 \nL 480.593437 452.793419 \n\" clip-path=\"url(#p2627567c96)\" style=\"fill: none; stroke: #ffffff; stroke-linecap: round\"/>\n     </g>\n     <g id=\"text_49\">\n      <!-- 0.0 -->\n      <g style=\"fill: #262626\" transform=\"translate(250.690909 456.97256) scale(0.11 -0.11)\">\n       <use xlink:href=\"#DejaVuSans-30\"/>\n       <use xlink:href=\"#DejaVuSans-2e\" x=\"63.623047\"/>\n       <use xlink:href=\"#DejaVuSans-30\" x=\"95.410156\"/>\n      </g>\n     </g>\n    </g>\n    <g id=\"ytick_22\">\n     <g id=\"line2d_52\">\n      <path d=\"M 277.684347 413.659301 \nL 480.593437 413.659301 \n\" clip-path=\"url(#p2627567c96)\" style=\"fill: none; stroke: #ffffff; stroke-linecap: round\"/>\n     </g>\n     <g id=\"text_50\">\n      <!-- 0.2 -->\n      <g style=\"fill: #262626\" transform=\"translate(250.690909 417.838442) scale(0.11 -0.11)\">\n       <use xlink:href=\"#DejaVuSans-30\"/>\n       <use xlink:href=\"#DejaVuSans-2e\" x=\"63.623047\"/>\n       <use xlink:href=\"#DejaVuSans-32\" x=\"95.410156\"/>\n      </g>\n     </g>\n    </g>\n    <g id=\"ytick_23\">\n     <g id=\"line2d_53\">\n      <path d=\"M 277.684347 374.525184 \nL 480.593437 374.525184 \n\" clip-path=\"url(#p2627567c96)\" style=\"fill: none; stroke: #ffffff; stroke-linecap: round\"/>\n     </g>\n     <g id=\"text_51\">\n      <!-- 0.4 -->\n      <g style=\"fill: #262626\" transform=\"translate(250.690909 378.704324) scale(0.11 -0.11)\">\n       <use xlink:href=\"#DejaVuSans-30\"/>\n       <use xlink:href=\"#DejaVuSans-2e\" x=\"63.623047\"/>\n       <use xlink:href=\"#DejaVuSans-34\" x=\"95.410156\"/>\n      </g>\n     </g>\n    </g>\n    <g id=\"ytick_24\">\n     <g id=\"line2d_54\">\n      <path d=\"M 277.684347 335.391066 \nL 480.593437 335.391066 \n\" clip-path=\"url(#p2627567c96)\" style=\"fill: none; stroke: #ffffff; stroke-linecap: round\"/>\n     </g>\n     <g id=\"text_52\">\n      <!-- 0.6 -->\n      <g style=\"fill: #262626\" transform=\"translate(250.690909 339.570207) scale(0.11 -0.11)\">\n       <use xlink:href=\"#DejaVuSans-30\"/>\n       <use xlink:href=\"#DejaVuSans-2e\" x=\"63.623047\"/>\n       <use xlink:href=\"#DejaVuSans-36\" x=\"95.410156\"/>\n      </g>\n     </g>\n    </g>\n    <g id=\"ytick_25\">\n     <g id=\"line2d_55\">\n      <path d=\"M 277.684347 296.256949 \nL 480.593437 296.256949 \n\" clip-path=\"url(#p2627567c96)\" style=\"fill: none; stroke: #ffffff; stroke-linecap: round\"/>\n     </g>\n     <g id=\"text_53\">\n      <!-- 0.8 -->\n      <g style=\"fill: #262626\" transform=\"translate(250.690909 300.436089) scale(0.11 -0.11)\">\n       <use xlink:href=\"#DejaVuSans-30\"/>\n       <use xlink:href=\"#DejaVuSans-2e\" x=\"63.623047\"/>\n       <use xlink:href=\"#DejaVuSans-38\" x=\"95.410156\"/>\n      </g>\n     </g>\n    </g>\n    <g id=\"ytick_26\">\n     <g id=\"line2d_56\">\n      <path d=\"M 277.684347 257.122831 \nL 480.593437 257.122831 \n\" clip-path=\"url(#p2627567c96)\" style=\"fill: none; stroke: #ffffff; stroke-linecap: round\"/>\n     </g>\n     <g id=\"text_54\">\n      <!-- 1.0 -->\n      <g style=\"fill: #262626\" transform=\"translate(250.690909 261.301972) scale(0.11 -0.11)\">\n       <use xlink:href=\"#DejaVuSans-31\"/>\n       <use xlink:href=\"#DejaVuSans-2e\" x=\"63.623047\"/>\n       <use xlink:href=\"#DejaVuSans-30\" x=\"95.410156\"/>\n      </g>\n     </g>\n    </g>\n   </g>\n   <g id=\"patch_20\">\n    <path d=\"M 277.684347 452.793419 \nL 277.684347 257.122831 \n\" style=\"fill: none; stroke: #ffffff; stroke-width: 1.25; stroke-linejoin: miter; stroke-linecap: square\"/>\n   </g>\n   <g id=\"patch_21\">\n    <path d=\"M 480.593437 452.793419 \nL 480.593437 257.122831 \n\" style=\"fill: none; stroke: #ffffff; stroke-width: 1.25; stroke-linejoin: miter; stroke-linecap: square\"/>\n   </g>\n   <g id=\"patch_22\">\n    <path d=\"M 277.684347 452.793419 \nL 480.593437 452.793419 \n\" style=\"fill: none; stroke: #ffffff; stroke-width: 1.25; stroke-linejoin: miter; stroke-linecap: square\"/>\n   </g>\n   <g id=\"patch_23\">\n    <path d=\"M 277.684347 257.122831 \nL 480.593437 257.122831 \n\" style=\"fill: none; stroke: #ffffff; stroke-width: 1.25; stroke-linejoin: miter; stroke-linecap: square\"/>\n   </g>\n  </g>\n  <g id=\"axes_5\">\n   <g id=\"patch_24\">\n    <path d=\"M 34.193437 687.598125 \nL 237.102528 687.598125 \nL 237.102528 491.927537 \nL 34.193437 491.927537 \nz\n\" style=\"fill: #eaeaf2\"/>\n   </g>\n   <g id=\"matplotlib.axis_9\">\n    <g id=\"xtick_23\">\n     <g id=\"line2d_57\">\n      <path d=\"M 34.193437 687.598125 \nL 34.193437 491.927537 \n\" clip-path=\"url(#pfc4254ee36)\" style=\"fill: none; stroke: #ffffff; stroke-linecap: round\"/>\n     </g>\n     <g id=\"text_55\">\n      <!-- 0.0 -->\n      <g style=\"fill: #262626\" transform=\"translate(25.446719 705.456406) scale(0.11 -0.11)\">\n       <use xlink:href=\"#DejaVuSans-30\"/>\n       <use xlink:href=\"#DejaVuSans-2e\" x=\"63.623047\"/>\n       <use xlink:href=\"#DejaVuSans-30\" x=\"95.410156\"/>\n      </g>\n     </g>\n    </g>\n    <g id=\"xtick_24\">\n     <g id=\"line2d_58\">\n      <path d=\"M 74.775256 687.598125 \nL 74.775256 491.927537 \n\" clip-path=\"url(#pfc4254ee36)\" style=\"fill: none; stroke: #ffffff; stroke-linecap: round\"/>\n     </g>\n     <g id=\"text_56\">\n      <!-- 0.2 -->\n      <g style=\"fill: #262626\" transform=\"translate(66.028537 705.456406) scale(0.11 -0.11)\">\n       <use xlink:href=\"#DejaVuSans-30\"/>\n       <use xlink:href=\"#DejaVuSans-2e\" x=\"63.623047\"/>\n       <use xlink:href=\"#DejaVuSans-32\" x=\"95.410156\"/>\n      </g>\n     </g>\n    </g>\n    <g id=\"xtick_25\">\n     <g id=\"line2d_59\">\n      <path d=\"M 115.357074 687.598125 \nL 115.357074 491.927537 \n\" clip-path=\"url(#pfc4254ee36)\" style=\"fill: none; stroke: #ffffff; stroke-linecap: round\"/>\n     </g>\n     <g id=\"text_57\">\n      <!-- 0.4 -->\n      <g style=\"fill: #262626\" transform=\"translate(106.610355 705.456406) scale(0.11 -0.11)\">\n       <use xlink:href=\"#DejaVuSans-30\"/>\n       <use xlink:href=\"#DejaVuSans-2e\" x=\"63.623047\"/>\n       <use xlink:href=\"#DejaVuSans-34\" x=\"95.410156\"/>\n      </g>\n     </g>\n    </g>\n    <g id=\"xtick_26\">\n     <g id=\"line2d_60\">\n      <path d=\"M 155.938892 687.598125 \nL 155.938892 491.927537 \n\" clip-path=\"url(#pfc4254ee36)\" style=\"fill: none; stroke: #ffffff; stroke-linecap: round\"/>\n     </g>\n     <g id=\"text_58\">\n      <!-- 0.6 -->\n      <g style=\"fill: #262626\" transform=\"translate(147.192173 705.456406) scale(0.11 -0.11)\">\n       <use xlink:href=\"#DejaVuSans-30\"/>\n       <use xlink:href=\"#DejaVuSans-2e\" x=\"63.623047\"/>\n       <use xlink:href=\"#DejaVuSans-36\" x=\"95.410156\"/>\n      </g>\n     </g>\n    </g>\n    <g id=\"xtick_27\">\n     <g id=\"line2d_61\">\n      <path d=\"M 196.52071 687.598125 \nL 196.52071 491.927537 \n\" clip-path=\"url(#pfc4254ee36)\" style=\"fill: none; stroke: #ffffff; stroke-linecap: round\"/>\n     </g>\n     <g id=\"text_59\">\n      <!-- 0.8 -->\n      <g style=\"fill: #262626\" transform=\"translate(187.773991 705.456406) scale(0.11 -0.11)\">\n       <use xlink:href=\"#DejaVuSans-30\"/>\n       <use xlink:href=\"#DejaVuSans-2e\" x=\"63.623047\"/>\n       <use xlink:href=\"#DejaVuSans-38\" x=\"95.410156\"/>\n      </g>\n     </g>\n    </g>\n    <g id=\"xtick_28\">\n     <g id=\"line2d_62\">\n      <path d=\"M 237.102528 687.598125 \nL 237.102528 491.927537 \n\" clip-path=\"url(#pfc4254ee36)\" style=\"fill: none; stroke: #ffffff; stroke-linecap: round\"/>\n     </g>\n     <g id=\"text_60\">\n      <!-- 1.0 -->\n      <g style=\"fill: #262626\" transform=\"translate(228.35581 705.456406) scale(0.11 -0.11)\">\n       <use xlink:href=\"#DejaVuSans-31\"/>\n       <use xlink:href=\"#DejaVuSans-2e\" x=\"63.623047\"/>\n       <use xlink:href=\"#DejaVuSans-30\" x=\"95.410156\"/>\n      </g>\n     </g>\n    </g>\n   </g>\n   <g id=\"matplotlib.axis_10\">\n    <g id=\"ytick_27\">\n     <g id=\"line2d_63\">\n      <path d=\"M 34.193437 687.598125 \nL 237.102528 687.598125 \n\" clip-path=\"url(#pfc4254ee36)\" style=\"fill: none; stroke: #ffffff; stroke-linecap: round\"/>\n     </g>\n     <g id=\"text_61\">\n      <!-- 0.0 -->\n      <g style=\"fill: #262626\" transform=\"translate(7.2 691.777266) scale(0.11 -0.11)\">\n       <use xlink:href=\"#DejaVuSans-30\"/>\n       <use xlink:href=\"#DejaVuSans-2e\" x=\"63.623047\"/>\n       <use xlink:href=\"#DejaVuSans-30\" x=\"95.410156\"/>\n      </g>\n     </g>\n    </g>\n    <g id=\"ytick_28\">\n     <g id=\"line2d_64\">\n      <path d=\"M 34.193437 648.464007 \nL 237.102528 648.464007 \n\" clip-path=\"url(#pfc4254ee36)\" style=\"fill: none; stroke: #ffffff; stroke-linecap: round\"/>\n     </g>\n     <g id=\"text_62\">\n      <!-- 0.2 -->\n      <g style=\"fill: #262626\" transform=\"translate(7.2 652.643148) scale(0.11 -0.11)\">\n       <use xlink:href=\"#DejaVuSans-30\"/>\n       <use xlink:href=\"#DejaVuSans-2e\" x=\"63.623047\"/>\n       <use xlink:href=\"#DejaVuSans-32\" x=\"95.410156\"/>\n      </g>\n     </g>\n    </g>\n    <g id=\"ytick_29\">\n     <g id=\"line2d_65\">\n      <path d=\"M 34.193437 609.32989 \nL 237.102528 609.32989 \n\" clip-path=\"url(#pfc4254ee36)\" style=\"fill: none; stroke: #ffffff; stroke-linecap: round\"/>\n     </g>\n     <g id=\"text_63\">\n      <!-- 0.4 -->\n      <g style=\"fill: #262626\" transform=\"translate(7.2 613.50903) scale(0.11 -0.11)\">\n       <use xlink:href=\"#DejaVuSans-30\"/>\n       <use xlink:href=\"#DejaVuSans-2e\" x=\"63.623047\"/>\n       <use xlink:href=\"#DejaVuSans-34\" x=\"95.410156\"/>\n      </g>\n     </g>\n    </g>\n    <g id=\"ytick_30\">\n     <g id=\"line2d_66\">\n      <path d=\"M 34.193437 570.195772 \nL 237.102528 570.195772 \n\" clip-path=\"url(#pfc4254ee36)\" style=\"fill: none; stroke: #ffffff; stroke-linecap: round\"/>\n     </g>\n     <g id=\"text_64\">\n      <!-- 0.6 -->\n      <g style=\"fill: #262626\" transform=\"translate(7.2 574.374913) scale(0.11 -0.11)\">\n       <use xlink:href=\"#DejaVuSans-30\"/>\n       <use xlink:href=\"#DejaVuSans-2e\" x=\"63.623047\"/>\n       <use xlink:href=\"#DejaVuSans-36\" x=\"95.410156\"/>\n      </g>\n     </g>\n    </g>\n    <g id=\"ytick_31\">\n     <g id=\"line2d_67\">\n      <path d=\"M 34.193437 531.061654 \nL 237.102528 531.061654 \n\" clip-path=\"url(#pfc4254ee36)\" style=\"fill: none; stroke: #ffffff; stroke-linecap: round\"/>\n     </g>\n     <g id=\"text_65\">\n      <!-- 0.8 -->\n      <g style=\"fill: #262626\" transform=\"translate(7.2 535.240795) scale(0.11 -0.11)\">\n       <use xlink:href=\"#DejaVuSans-30\"/>\n       <use xlink:href=\"#DejaVuSans-2e\" x=\"63.623047\"/>\n       <use xlink:href=\"#DejaVuSans-38\" x=\"95.410156\"/>\n      </g>\n     </g>\n    </g>\n    <g id=\"ytick_32\">\n     <g id=\"line2d_68\">\n      <path d=\"M 34.193437 491.927537 \nL 237.102528 491.927537 \n\" clip-path=\"url(#pfc4254ee36)\" style=\"fill: none; stroke: #ffffff; stroke-linecap: round\"/>\n     </g>\n     <g id=\"text_66\">\n      <!-- 1.0 -->\n      <g style=\"fill: #262626\" transform=\"translate(7.2 496.106677) scale(0.11 -0.11)\">\n       <use xlink:href=\"#DejaVuSans-31\"/>\n       <use xlink:href=\"#DejaVuSans-2e\" x=\"63.623047\"/>\n       <use xlink:href=\"#DejaVuSans-30\" x=\"95.410156\"/>\n      </g>\n     </g>\n    </g>\n   </g>\n   <g id=\"patch_25\">\n    <path d=\"M 34.193437 687.598125 \nL 34.193437 491.927537 \n\" style=\"fill: none; stroke: #ffffff; stroke-width: 1.25; stroke-linejoin: miter; stroke-linecap: square\"/>\n   </g>\n   <g id=\"patch_26\">\n    <path d=\"M 237.102528 687.598125 \nL 237.102528 491.927537 \n\" style=\"fill: none; stroke: #ffffff; stroke-width: 1.25; stroke-linejoin: miter; stroke-linecap: square\"/>\n   </g>\n   <g id=\"patch_27\">\n    <path d=\"M 34.193437 687.598125 \nL 237.102528 687.598125 \n\" style=\"fill: none; stroke: #ffffff; stroke-width: 1.25; stroke-linejoin: miter; stroke-linecap: square\"/>\n   </g>\n   <g id=\"patch_28\">\n    <path d=\"M 34.193437 491.927537 \nL 237.102528 491.927537 \n\" style=\"fill: none; stroke: #ffffff; stroke-width: 1.25; stroke-linejoin: miter; stroke-linecap: square\"/>\n   </g>\n  </g>\n  <g id=\"axes_6\">\n   <g id=\"patch_29\">\n    <path d=\"M 277.684347 687.598125 \nL 480.593437 687.598125 \nL 480.593437 491.927537 \nL 277.684347 491.927537 \nz\n\" style=\"fill: #eaeaf2\"/>\n   </g>\n   <g id=\"matplotlib.axis_11\">\n    <g id=\"xtick_29\">\n     <g id=\"line2d_69\">\n      <path d=\"M 277.684347 687.598125 \nL 277.684347 491.927537 \n\" clip-path=\"url(#p8ed11d0a1f)\" style=\"fill: none; stroke: #ffffff; stroke-linecap: round\"/>\n     </g>\n     <g id=\"text_67\">\n      <!-- 0.0 -->\n      <g style=\"fill: #262626\" transform=\"translate(268.937628 705.456406) scale(0.11 -0.11)\">\n       <use xlink:href=\"#DejaVuSans-30\"/>\n       <use xlink:href=\"#DejaVuSans-2e\" x=\"63.623047\"/>\n       <use xlink:href=\"#DejaVuSans-30\" x=\"95.410156\"/>\n      </g>\n     </g>\n    </g>\n    <g id=\"xtick_30\">\n     <g id=\"line2d_70\">\n      <path d=\"M 318.266165 687.598125 \nL 318.266165 491.927537 \n\" clip-path=\"url(#p8ed11d0a1f)\" style=\"fill: none; stroke: #ffffff; stroke-linecap: round\"/>\n     </g>\n     <g id=\"text_68\">\n      <!-- 0.2 -->\n      <g style=\"fill: #262626\" transform=\"translate(309.519446 705.456406) scale(0.11 -0.11)\">\n       <use xlink:href=\"#DejaVuSans-30\"/>\n       <use xlink:href=\"#DejaVuSans-2e\" x=\"63.623047\"/>\n       <use xlink:href=\"#DejaVuSans-32\" x=\"95.410156\"/>\n      </g>\n     </g>\n    </g>\n    <g id=\"xtick_31\">\n     <g id=\"line2d_71\">\n      <path d=\"M 358.847983 687.598125 \nL 358.847983 491.927537 \n\" clip-path=\"url(#p8ed11d0a1f)\" style=\"fill: none; stroke: #ffffff; stroke-linecap: round\"/>\n     </g>\n     <g id=\"text_69\">\n      <!-- 0.4 -->\n      <g style=\"fill: #262626\" transform=\"translate(350.101264 705.456406) scale(0.11 -0.11)\">\n       <use xlink:href=\"#DejaVuSans-30\"/>\n       <use xlink:href=\"#DejaVuSans-2e\" x=\"63.623047\"/>\n       <use xlink:href=\"#DejaVuSans-34\" x=\"95.410156\"/>\n      </g>\n     </g>\n    </g>\n    <g id=\"xtick_32\">\n     <g id=\"line2d_72\">\n      <path d=\"M 399.429801 687.598125 \nL 399.429801 491.927537 \n\" clip-path=\"url(#p8ed11d0a1f)\" style=\"fill: none; stroke: #ffffff; stroke-linecap: round\"/>\n     </g>\n     <g id=\"text_70\">\n      <!-- 0.6 -->\n      <g style=\"fill: #262626\" transform=\"translate(390.683082 705.456406) scale(0.11 -0.11)\">\n       <use xlink:href=\"#DejaVuSans-30\"/>\n       <use xlink:href=\"#DejaVuSans-2e\" x=\"63.623047\"/>\n       <use xlink:href=\"#DejaVuSans-36\" x=\"95.410156\"/>\n      </g>\n     </g>\n    </g>\n    <g id=\"xtick_33\">\n     <g id=\"line2d_73\">\n      <path d=\"M 440.011619 687.598125 \nL 440.011619 491.927537 \n\" clip-path=\"url(#p8ed11d0a1f)\" style=\"fill: none; stroke: #ffffff; stroke-linecap: round\"/>\n     </g>\n     <g id=\"text_71\">\n      <!-- 0.8 -->\n      <g style=\"fill: #262626\" transform=\"translate(431.264901 705.456406) scale(0.11 -0.11)\">\n       <use xlink:href=\"#DejaVuSans-30\"/>\n       <use xlink:href=\"#DejaVuSans-2e\" x=\"63.623047\"/>\n       <use xlink:href=\"#DejaVuSans-38\" x=\"95.410156\"/>\n      </g>\n     </g>\n    </g>\n    <g id=\"xtick_34\">\n     <g id=\"line2d_74\">\n      <path d=\"M 480.593437 687.598125 \nL 480.593437 491.927537 \n\" clip-path=\"url(#p8ed11d0a1f)\" style=\"fill: none; stroke: #ffffff; stroke-linecap: round\"/>\n     </g>\n     <g id=\"text_72\">\n      <!-- 1.0 -->\n      <g style=\"fill: #262626\" transform=\"translate(471.846719 705.456406) scale(0.11 -0.11)\">\n       <use xlink:href=\"#DejaVuSans-31\"/>\n       <use xlink:href=\"#DejaVuSans-2e\" x=\"63.623047\"/>\n       <use xlink:href=\"#DejaVuSans-30\" x=\"95.410156\"/>\n      </g>\n     </g>\n    </g>\n   </g>\n   <g id=\"matplotlib.axis_12\">\n    <g id=\"ytick_33\">\n     <g id=\"line2d_75\">\n      <path d=\"M 277.684347 687.598125 \nL 480.593437 687.598125 \n\" clip-path=\"url(#p8ed11d0a1f)\" style=\"fill: none; stroke: #ffffff; stroke-linecap: round\"/>\n     </g>\n     <g id=\"text_73\">\n      <!-- 0.0 -->\n      <g style=\"fill: #262626\" transform=\"translate(250.690909 691.777266) scale(0.11 -0.11)\">\n       <use xlink:href=\"#DejaVuSans-30\"/>\n       <use xlink:href=\"#DejaVuSans-2e\" x=\"63.623047\"/>\n       <use xlink:href=\"#DejaVuSans-30\" x=\"95.410156\"/>\n      </g>\n     </g>\n    </g>\n    <g id=\"ytick_34\">\n     <g id=\"line2d_76\">\n      <path d=\"M 277.684347 648.464007 \nL 480.593437 648.464007 \n\" clip-path=\"url(#p8ed11d0a1f)\" style=\"fill: none; stroke: #ffffff; stroke-linecap: round\"/>\n     </g>\n     <g id=\"text_74\">\n      <!-- 0.2 -->\n      <g style=\"fill: #262626\" transform=\"translate(250.690909 652.643148) scale(0.11 -0.11)\">\n       <use xlink:href=\"#DejaVuSans-30\"/>\n       <use xlink:href=\"#DejaVuSans-2e\" x=\"63.623047\"/>\n       <use xlink:href=\"#DejaVuSans-32\" x=\"95.410156\"/>\n      </g>\n     </g>\n    </g>\n    <g id=\"ytick_35\">\n     <g id=\"line2d_77\">\n      <path d=\"M 277.684347 609.32989 \nL 480.593437 609.32989 \n\" clip-path=\"url(#p8ed11d0a1f)\" style=\"fill: none; stroke: #ffffff; stroke-linecap: round\"/>\n     </g>\n     <g id=\"text_75\">\n      <!-- 0.4 -->\n      <g style=\"fill: #262626\" transform=\"translate(250.690909 613.50903) scale(0.11 -0.11)\">\n       <use xlink:href=\"#DejaVuSans-30\"/>\n       <use xlink:href=\"#DejaVuSans-2e\" x=\"63.623047\"/>\n       <use xlink:href=\"#DejaVuSans-34\" x=\"95.410156\"/>\n      </g>\n     </g>\n    </g>\n    <g id=\"ytick_36\">\n     <g id=\"line2d_78\">\n      <path d=\"M 277.684347 570.195772 \nL 480.593437 570.195772 \n\" clip-path=\"url(#p8ed11d0a1f)\" style=\"fill: none; stroke: #ffffff; stroke-linecap: round\"/>\n     </g>\n     <g id=\"text_76\">\n      <!-- 0.6 -->\n      <g style=\"fill: #262626\" transform=\"translate(250.690909 574.374913) scale(0.11 -0.11)\">\n       <use xlink:href=\"#DejaVuSans-30\"/>\n       <use xlink:href=\"#DejaVuSans-2e\" x=\"63.623047\"/>\n       <use xlink:href=\"#DejaVuSans-36\" x=\"95.410156\"/>\n      </g>\n     </g>\n    </g>\n    <g id=\"ytick_37\">\n     <g id=\"line2d_79\">\n      <path d=\"M 277.684347 531.061654 \nL 480.593437 531.061654 \n\" clip-path=\"url(#p8ed11d0a1f)\" style=\"fill: none; stroke: #ffffff; stroke-linecap: round\"/>\n     </g>\n     <g id=\"text_77\">\n      <!-- 0.8 -->\n      <g style=\"fill: #262626\" transform=\"translate(250.690909 535.240795) scale(0.11 -0.11)\">\n       <use xlink:href=\"#DejaVuSans-30\"/>\n       <use xlink:href=\"#DejaVuSans-2e\" x=\"63.623047\"/>\n       <use xlink:href=\"#DejaVuSans-38\" x=\"95.410156\"/>\n      </g>\n     </g>\n    </g>\n    <g id=\"ytick_38\">\n     <g id=\"line2d_80\">\n      <path d=\"M 277.684347 491.927537 \nL 480.593437 491.927537 \n\" clip-path=\"url(#p8ed11d0a1f)\" style=\"fill: none; stroke: #ffffff; stroke-linecap: round\"/>\n     </g>\n     <g id=\"text_78\">\n      <!-- 1.0 -->\n      <g style=\"fill: #262626\" transform=\"translate(250.690909 496.106677) scale(0.11 -0.11)\">\n       <use xlink:href=\"#DejaVuSans-31\"/>\n       <use xlink:href=\"#DejaVuSans-2e\" x=\"63.623047\"/>\n       <use xlink:href=\"#DejaVuSans-30\" x=\"95.410156\"/>\n      </g>\n     </g>\n    </g>\n   </g>\n   <g id=\"patch_30\">\n    <path d=\"M 277.684347 687.598125 \nL 277.684347 491.927537 \n\" style=\"fill: none; stroke: #ffffff; stroke-width: 1.25; stroke-linejoin: miter; stroke-linecap: square\"/>\n   </g>\n   <g id=\"patch_31\">\n    <path d=\"M 480.593437 687.598125 \nL 480.593437 491.927537 \n\" style=\"fill: none; stroke: #ffffff; stroke-width: 1.25; stroke-linejoin: miter; stroke-linecap: square\"/>\n   </g>\n   <g id=\"patch_32\">\n    <path d=\"M 277.684347 687.598125 \nL 480.593437 687.598125 \n\" style=\"fill: none; stroke: #ffffff; stroke-width: 1.25; stroke-linejoin: miter; stroke-linecap: square\"/>\n   </g>\n   <g id=\"patch_33\">\n    <path d=\"M 277.684347 491.927537 \nL 480.593437 491.927537 \n\" style=\"fill: none; stroke: #ffffff; stroke-width: 1.25; stroke-linejoin: miter; stroke-linecap: square\"/>\n   </g>\n  </g>\n </g>\n <defs>\n  <clipPath id=\"pa088df5070\">\n   <rect x=\"34.193437\" y=\"22.318125\" width=\"202.909091\" height=\"195.670588\"/>\n  </clipPath>\n  <clipPath id=\"pfae0f99979\">\n   <rect x=\"277.684347\" y=\"22.318125\" width=\"202.909091\" height=\"195.670588\"/>\n  </clipPath>\n  <clipPath id=\"pb34303442c\">\n   <rect x=\"34.193437\" y=\"257.122831\" width=\"202.909091\" height=\"195.670588\"/>\n  </clipPath>\n  <clipPath id=\"p2627567c96\">\n   <rect x=\"277.684347\" y=\"257.122831\" width=\"202.909091\" height=\"195.670588\"/>\n  </clipPath>\n  <clipPath id=\"pfc4254ee36\">\n   <rect x=\"34.193437\" y=\"491.927537\" width=\"202.909091\" height=\"195.670588\"/>\n  </clipPath>\n  <clipPath id=\"p8ed11d0a1f\">\n   <rect x=\"277.684347\" y=\"491.927537\" width=\"202.909091\" height=\"195.670588\"/>\n  </clipPath>\n </defs>\n</svg>\n",
            "application/pdf": "[encoded data removed]"
          },
          "metadata": {}
        }
      ],
      "source": [
        "def vis_act_fn(act_fn, ax, x):\n",
        "    # Run activation function\n",
        "    y = act_fn(x)\n",
        "    y_grads = get_grads(act_fn, x)\n",
        "    # Push x, y and gradients back to cpu for plotting\n",
        "    x, y, y_grads = x.cpu().numpy(), y.cpu().numpy(), y_grads.cpu().numpy()\n",
        "    ## Plotting\n",
        "    ax.plot(x, y, linewidth=2, label=\"ActFn\")\n",
        "    ax.plot(x, y_grads, linewidth=2, label=\"Gradient\")\n",
        "    ax.set_title(act_fn.name)\n",
        "    ax.legend()\n",
        "    ax.set_ylim(-1.5, x.max())\n",
        "\n",
        "# Add activation functions if wanted\n",
        "act_fns = [act_fn() for act_fn in act_fn_by_name.values()]\n",
        "x = torch.linspace(-5, 5, 1000) # Range on which we want to visualize the activation functions\n",
        "## Plotting\n",
        "rows = math.ceil(len(act_fns)/2.0)\n",
        "fig, ax = plt.subplots(rows, 2, figsize=(8, rows*4))\n",
        "for i, act_fn in enumerate(act_fns):\n",
        "    vis_act_fn(act_fn, ax[divmod(i,2)], x)\n",
        "fig.subplots_adjust(hspace=0.3)\n",
        "plt.show()"
      ]
    },
    {
      "cell_type": "markdown",
      "metadata": {
        "id": "4euXDGaO5xX8"
      },
      "source": [
        "## Analysing the effect of activation functions"
      ]
    },
    {
      "cell_type": "markdown",
      "metadata": {
        "id": "NHMIqqUo5xX8"
      },
      "source": [
        "After implementing and visualizing the activation functions, we are aiming to gain insights into their effect.\n",
        "We do this by using a simple neural network trained on [FashionMNIST](https://github.com/zalandoresearch/fashion-mnist) and examine various aspects of the model, including the performance and gradient flow."
      ]
    },
    {
      "cell_type": "markdown",
      "metadata": {
        "id": "MX403iml5xX8"
      },
      "source": [
        "### Setup"
      ]
    },
    {
      "cell_type": "markdown",
      "metadata": {
        "id": "5ZudBafp5xX9"
      },
      "source": [
        "Firstly, let's set up a neural network. The chosen network views the images as 1D tensors and pushes them through a sequence of linear layers and a specified activation function. Feel free to experiment with other network architectures."
      ]
    },
    {
      "cell_type": "code",
      "execution_count": null,
      "metadata": {
        "scrolled": true,
        "id": "XsURsWv75xX9"
      },
      "outputs": [],
      "source": [
        "class BaseNetwork(nn.Module):\n",
        "\n",
        "    def __init__(self, act_fn, input_size=784, num_classes=10, hidden_sizes=[512, 256, 256, 128]):\n",
        "        \"\"\"\n",
        "        Inputs:\n",
        "            act_fn - Object of the activation function that should be used as non-linearity in the network.\n",
        "            input_size - Size of the input images in pixels\n",
        "            num_classes - Number of classes we want to predict\n",
        "            hidden_sizes - A list of integers specifying the hidden layer sizes in the NN\n",
        "        \"\"\"\n",
        "        super().__init__()\n",
        "\n",
        "        # Create the network based on the specified hidden sizes\n",
        "        layers = []\n",
        "        layer_sizes = [input_size] + hidden_sizes\n",
        "        for layer_index in range(1, len(layer_sizes)):\n",
        "            layers += [nn.Linear(layer_sizes[layer_index-1], layer_sizes[layer_index]),\n",
        "                       act_fn]\n",
        "        layers += [nn.Linear(layer_sizes[-1], num_classes)]\n",
        "        self.layers = nn.Sequential(*layers) # nn.Sequential summarizes a list of modules into a single module, applying them in sequence\n",
        "\n",
        "        # We store all hyperparameters in a dictionary for saving and loading of the model\n",
        "        self.config = {\"act_fn\": act_fn.config, \"input_size\": input_size, \"num_classes\": num_classes, \"hidden_sizes\": hidden_sizes}\n",
        "\n",
        "    def forward(self, x):\n",
        "        ## TODO: Transform images into vector + batch dimension, and apply layers on it\n",
        "        return ..."
      ]
    },
    {
      "cell_type": "markdown",
      "metadata": {
        "id": "a42drCxx5xX9"
      },
      "source": [
        "We also add functions for loading and saving the model. The hyperparameters are stored in a configuration file (simple json file):"
      ]
    },
    {
      "cell_type": "code",
      "execution_count": null,
      "metadata": {
        "scrolled": true,
        "id": "00MDFJtg5xX9"
      },
      "outputs": [],
      "source": [
        "def _get_config_file(model_path, model_name):\n",
        "    # Name of the file for storing hyperparameter details\n",
        "    return os.path.join(model_path, model_name + \".config\")\n",
        "\n",
        "def _get_model_file(model_path, model_name):\n",
        "    # Name of the file for storing network parameters\n",
        "    return os.path.join(model_path, model_name + \".tar\")\n",
        "\n",
        "def load_model(model_path, model_name, net=None):\n",
        "    \"\"\"\n",
        "    Loads a saved model from disk.\n",
        "\n",
        "    Inputs:\n",
        "        model_path - Path of the checkpoint directory\n",
        "        model_name - Name of the model (str)\n",
        "        net - (Optional) If given, the state dict is loaded into this model. Otherwise, a new model is created.\n",
        "    \"\"\"\n",
        "    config_file, model_file = _get_config_file(model_path, model_name), _get_model_file(model_path, model_name)\n",
        "    assert os.path.isfile(config_file), \"Could not find the config file \\\"%s\\\". Are you sure this is the correct path and you have your model config stored here?\" % (config_file)\n",
        "    assert os.path.isfile(model_file), \"Could not find the model file \\\"%s\\\". Are you sure this is the correct path and you have your model stored here?\" % (model_file)\n",
        "    with open(config_file, \"r\") as f:\n",
        "        config_dict = json.load(f)\n",
        "    if net is None:\n",
        "        act_fn_name = config_dict[\"act_fn\"].pop(\"name\").lower()\n",
        "        act_fn = act_fn_by_name[act_fn_name](**config_dict.pop(\"act_fn\"))\n",
        "        net = BaseNetwork(act_fn=act_fn, **config_dict)\n",
        "    net.load_state_dict(torch.load(model_file, map_location=device))\n",
        "    return net\n",
        "\n",
        "def save_model(model, model_path, model_name):\n",
        "    \"\"\"\n",
        "    Given a model, we save the state_dict and hyperparameters.\n",
        "\n",
        "    Inputs:\n",
        "        model - Network object to save parameters from\n",
        "        model_path - Path of the checkpoint directory\n",
        "        model_name - Name of the model (str)\n",
        "    \"\"\"\n",
        "    config_dict = model.config\n",
        "    os.makedirs(model_path, exist_ok=True)\n",
        "    config_file, model_file = _get_config_file(model_path, model_name), _get_model_file(model_path, model_name)\n",
        "    with open(config_file, \"w\") as f:\n",
        "        json.dump(config_dict, f)\n",
        "    torch.save(model.state_dict(), model_file)"
      ]
    },
    {
      "cell_type": "markdown",
      "metadata": {
        "id": "ym6Rjn_E5xX-"
      },
      "source": [
        "We also set up the dataset we want to train it on, namely [FashionMNIST](https://github.com/zalandoresearch/fashion-mnist). FashionMNIST is a more complex version of MNIST and contains black-and-white images of clothes instead of digits. The 10 classes include trousers, coats, shoes, bags and more. To load this dataset, we will make use of yet another PyTorch package, namely `torchvision` ([documentation](https://pytorch.org/docs/stable/torchvision/index.html)). The `torchvision` package consists of popular datasets, model architectures, and common image transformations for computer vision. We will use the package for many of the notebooks in this course to simplify our dataset handling.\n",
        "\n",
        "Let's load the dataset below, and visualize a few images to get an impression of the data."
      ]
    },
    {
      "cell_type": "code",
      "execution_count": null,
      "metadata": {
        "scrolled": true,
        "id": "mCZOkQ495xX-"
      },
      "outputs": [],
      "source": [
        "import torchvision\n",
        "from torchvision.datasets import FashionMNIST\n",
        "from torchvision import transforms\n",
        "\n",
        "# Transformations applied on each image => first make them a tensor, then normalize them in the range -1 to 1\n",
        "transform = transforms.Compose([transforms.ToTensor(),\n",
        "                                transforms.Normalize((0.5,), (0.5,))])\n",
        "\n",
        "# Loading the training dataset. We need to split it into a training and validation part\n",
        "train_dataset = FashionMNIST(root=DATASET_PATH, train=True, transform=transform, download=True)\n",
        "train_set, val_set = torch.utils.data.random_split(train_dataset, [50000, 10000])\n",
        "\n",
        "# Loading the test set\n",
        "test_set = FashionMNIST(root=DATASET_PATH, train=False, transform=transform, download=True)\n",
        "\n",
        "# We define a set of data loaders that we can use for various purposes later.\n",
        "# Note that for actually training a model, we will use different data loaders\n",
        "# with a lower batch size.\n",
        "train_loader = data.DataLoader(train_set, batch_size=1024, shuffle=True, drop_last=False)\n",
        "val_loader = data.DataLoader(val_set, batch_size=1024, shuffle=False, drop_last=False)\n",
        "test_loader = data.DataLoader(test_set, batch_size=1024, shuffle=False, drop_last=False)"
      ]
    },
    {
      "cell_type": "code",
      "execution_count": null,
      "metadata": {
        "id": "D1mreYhQ5xX-"
      },
      "outputs": [],
      "source": [
        "exmp_imgs = [train_set[i][0] for i in range(16)]\n",
        "# Organize the images into a grid for nicer visualization\n",
        "img_grid = torchvision.utils.make_grid(torch.stack(exmp_imgs, dim=0), nrow=4, normalize=True, pad_value=0.5)\n",
        "img_grid = img_grid.permute(1, 2, 0)\n",
        "\n",
        "plt.figure(figsize=(8,8))\n",
        "plt.title(\"FashionMNIST examples\")\n",
        "plt.imshow(img_grid)\n",
        "plt.axis('off')\n",
        "plt.show()\n",
        "plt.close()"
      ]
    },
    {
      "cell_type": "markdown",
      "metadata": {
        "id": "qqczGIaO5xX-"
      },
      "source": [
        "### Visualizing the gradient flow after initialization\n",
        "\n",
        "As mentioned previously, one important aspect of activation functions is how they propagate gradients through the network. Imagine we have a very deep neural network with more than 50 layers. The gradients for the input layer, i.e. the very first layer, have passed >50 times the activation function, but we still want them to be of a reasonable size. If the gradient through the activation function is (in expectation) considerably smaller than 1, our gradients will vanish until they reach the input layer. If the gradient through the activation function is larger than 1, the gradients exponentially increase and might explode.\n",
        "\n",
        "To get a feeling of how every activation function influences the gradients, we can look at a freshly initialized network and measure the gradients for each parameter for a batch of 256 images:"
      ]
    },
    {
      "cell_type": "code",
      "execution_count": null,
      "metadata": {
        "scrolled": true,
        "id": "05-Zmine5xX_"
      },
      "outputs": [],
      "source": [
        "def visualize_gradients(net, color=\"C0\"):\n",
        "    \"\"\"\n",
        "    Inputs:\n",
        "        net - Object of class BaseNetwork\n",
        "        color - Color in which we want to visualize the histogram (for easier separation of activation functions)\n",
        "    \"\"\"\n",
        "    net.eval()\n",
        "    small_loader = data.DataLoader(train_set, batch_size=256, shuffle=False)\n",
        "    imgs, labels = next(iter(small_loader))\n",
        "    imgs, labels = imgs.to(device), labels.to(device)\n",
        "\n",
        "    net.zero_grad()\n",
        "    # TODO: Pass one batch through the network, and calculate the gradients for the weights\n",
        "    ...\n",
        "\n",
        "    # We limit our visualization to the weight parameters and exclude the bias to reduce the number of plots\n",
        "    grads = {name: params.grad.data.view(-1).cpu().clone().numpy() for name, params in net.named_parameters() if \"weight\" in name}\n",
        "    net.zero_grad()\n",
        "\n",
        "    ## Plotting\n",
        "    columns = len(grads)\n",
        "    fig, ax = plt.subplots(1, columns, figsize=(columns*3.5, 2.5))\n",
        "    fig_index = 0\n",
        "    for key in grads:\n",
        "        key_ax = ax[fig_index%columns]\n",
        "        sns.histplot(data=grads[key], bins=30, ax=key_ax, color=color, kde=True)\n",
        "        key_ax.set_title(\"%s\" % key)\n",
        "        key_ax.set_xlabel(\"Grad magnitude\")\n",
        "        fig_index += 1\n",
        "    fig.suptitle(\"Gradient magnitude distribution for activation function %s\" % (net.config[\"act_fn\"][\"name\"]), fontsize=14, y=1.05)\n",
        "    fig.subplots_adjust(wspace=0.45)\n",
        "    plt.show()\n",
        "    plt.close()"
      ]
    },
    {
      "cell_type": "code",
      "execution_count": null,
      "metadata": {
        "scrolled": false,
        "id": "86hjFOpZ5xX_"
      },
      "outputs": [],
      "source": [
        "# Seaborn prints warnings if histogram has small values. We can ignore them for now\n",
        "import warnings\n",
        "warnings.filterwarnings('ignore')\n",
        "## Create a plot for every activation function\n",
        "for i, act_fn_name in enumerate(act_fn_by_name):\n",
        "    set_seed(42) # Setting the seed ensures that we have the same weight initialization for each activation function\n",
        "    act_fn = act_fn_by_name[act_fn_name]()\n",
        "    net_actfn = BaseNetwork(act_fn=act_fn).to(device)\n",
        "    visualize_gradients(net_actfn, color=\"C%i\"%i)"
      ]
    },
    {
      "cell_type": "markdown",
      "metadata": {
        "id": "PEyiMjwE5xX_"
      },
      "source": [
        "The sigmoid activation function shows a clearly undesirable behavior. While the gradients for the output layer are very large with up to 0.1, the input layer has the lowest gradient norm across all activation functions with only 1e-5. This is due to its small maximum gradient of 1/4, and finding a suitable learning rate across all layers is not possible in this setup.\n",
        "All the other activation functions show to have similar gradient norms across all layers. Interestingly, the ReLU activation has a spike around 0 which is caused by its zero-part on the left, and dead neurons (we will take a closer look at this later on).\n",
        "\n",
        "Note that additionally to the activation, the initialization of the weight parameters can be crucial. By default, PyTorch uses the [Kaiming](https://pytorch.org/docs/stable/nn.init.html#torch.nn.init.kaiming_uniform_) initialization for linear layers optimized for Tanh activations. In Tutorial 4, we will take a closer look at initialization, but assume for now that the Kaiming initialization works for all activation functions reasonably well."
      ]
    },
    {
      "cell_type": "markdown",
      "metadata": {
        "id": "2VeL5SXA5xX_"
      },
      "source": [
        "### Training a model\n",
        "\n",
        "Next, we want to train our model with different activation functions on FashionMNIST and compare the gained performance. All in all, our final goal is to achieve the best possible performance on a dataset of our choice.\n",
        "Therefore, we write a training loop in the next cell including a validation after every epoch and a final test on the best model:"
      ]
    },
    {
      "cell_type": "code",
      "execution_count": null,
      "metadata": {
        "scrolled": true,
        "id": "KQ-4Yb025xX_"
      },
      "outputs": [],
      "source": [
        "def train_model(net, model_name, max_epochs=50, patience=7, batch_size=256, overwrite=False):\n",
        "    \"\"\"\n",
        "    Train a model on the training set of FashionMNIST\n",
        "\n",
        "    Inputs:\n",
        "        net - Object of BaseNetwork\n",
        "        model_name - (str) Name of the model, used for creating the checkpoint names\n",
        "        max_epochs - Number of epochs we want to (maximally) train for\n",
        "        patience - If the performance on the validation set has not improved for #patience epochs, we stop training early\n",
        "        batch_size - Size of batches used in training\n",
        "        overwrite - Determines how to handle the case when there already exists a checkpoint. If True, it will be overwritten. Otherwise, we skip training.\n",
        "    \"\"\"\n",
        "    file_exists = os.path.isfile(_get_model_file(CHECKPOINT_PATH, model_name))\n",
        "    if file_exists and not overwrite:\n",
        "        print(\"Model file already exists. Skipping training...\")\n",
        "    else:\n",
        "        if file_exists:\n",
        "            print(\"Model file exists, but will be overwritten...\")\n",
        "\n",
        "        # Defining optimizer, loss and data loader\n",
        "        optimizer = optim.SGD(net.parameters(), lr=1e-2, momentum=0.9) # Default parameters, feel free to change\n",
        "        loss_module = nn.CrossEntropyLoss()\n",
        "        train_loader_local = data.DataLoader(train_set, batch_size=batch_size, shuffle=True, drop_last=True, pin_memory=True)\n",
        "\n",
        "        val_scores = []\n",
        "        best_val_epoch = -1\n",
        "        for epoch in range(max_epochs):\n",
        "            ##############\n",
        "            ## Training ##\n",
        "            ##############\n",
        "            net.train()\n",
        "            true_preds, count = 0., 0\n",
        "            for imgs, labels in tqdm(train_loader, desc=\"Epoch %i\" % (epoch+1), leave=False):\n",
        "                ## TODO: Take an optimization step on the batch. Use \"preds\" for naming the outputs of the networks\n",
        "                ...\n",
        "                # Record statistics during training\n",
        "                true_preds += (preds.argmax(dim=-1) == labels).sum()\n",
        "                count += labels.shape[0]\n",
        "            train_acc = true_preds / count\n",
        "\n",
        "            ################\n",
        "            ## Validation ##\n",
        "            ################\n",
        "            val_acc = test_model(net, val_loader)\n",
        "            val_scores.append(val_acc)\n",
        "            print(\"[Epoch %2i] Training accuracy: %05.2f%%, Validation accuracy: %05.2f%%\" % (epoch+1, train_acc*100.0, val_acc*100.0))\n",
        "\n",
        "            if len(val_scores) == 1 or val_acc > val_scores[best_val_epoch]:\n",
        "                print(\"\\t   (New best performance, saving model...)\")\n",
        "                save_model(net, CHECKPOINT_PATH, model_name)\n",
        "                best_val_epoch = epoch\n",
        "            elif best_val_epoch <= epoch - patience:\n",
        "                print(\"Early stopping due to no improvement over the last %i epochs\" % (patience))\n",
        "                break\n",
        "\n",
        "        # Plot a curve of the validation accuracy\n",
        "        plt.plot([i for i in range(1,len(val_scores)+1)], val_scores)\n",
        "        plt.xlabel(\"Epochs\")\n",
        "        plt.ylabel(\"Validation accuracy\")\n",
        "        plt.title(\"Validation performance of %s\" % model_name)\n",
        "        plt.show()\n",
        "        plt.close()\n",
        "\n",
        "    load_model(CHECKPOINT_PATH, model_name, net=net)\n",
        "    test_acc = test_model(net, test_loader)\n",
        "    print((\" Test accuracy: %4.2f%% \" % (test_acc*100.0)).center(50, \"=\")+\"\\n\")\n",
        "    return test_acc\n",
        "\n",
        "\n",
        "def test_model(net, data_loader):\n",
        "    \"\"\"\n",
        "    Test a model on a specified dataset.\n",
        "\n",
        "    Inputs:\n",
        "        net - Trained model of type BaseNetwork\n",
        "        data_loader - DataLoader object of the dataset to test on (validation or test)\n",
        "    \"\"\"\n",
        "    net.eval()\n",
        "    true_preds, count = 0., 0\n",
        "    for imgs, labels in data_loader:\n",
        "        ## TODO: Predict the labels for the test data, and record number of correct predictions in \"true_preds\",\n",
        "        ##       and number of predictions overall in \"count\"\n",
        "        ...\n",
        "    test_acc = true_preds / count\n",
        "    return test_acc"
      ]
    },
    {
      "cell_type": "markdown",
      "metadata": {
        "id": "WHg9yf7X5xX_"
      },
      "source": [
        "We train one model for each activation function. We recommend using the pretrained models to save time if you are running this notebook on CPU."
      ]
    },
    {
      "cell_type": "code",
      "execution_count": null,
      "metadata": {
        "scrolled": false,
        "id": "TRU8SXMN5xYF"
      },
      "outputs": [],
      "source": [
        "for act_fn_name in act_fn_by_name:\n",
        "    print(\"Training BaseNetwork with %s activation...\" % act_fn_name)\n",
        "    set_seed(42)\n",
        "    act_fn = act_fn_by_name[act_fn_name]()\n",
        "    net_actfn = BaseNetwork(act_fn=act_fn).to(device)\n",
        "    train_model(net_actfn, \"FashionMNIST_%s\" % act_fn_name, overwrite=False)"
      ]
    },
    {
      "cell_type": "markdown",
      "metadata": {
        "id": "CMAZ-76n5xYF"
      },
      "source": [
        "Not surprisingly, the model using the sigmoid activation function shows to fail and does not improve upon random performance (10 classes => 1/10 for random chance).\n",
        "\n",
        "All the other activation functions gain similar performance.\n",
        "To have a more accurate conclusion, we would have to train the models for multiple seeds and look at the averages.\n",
        "However, the \"optimal\" activation function also depends on many other factors (hidden sizes, number of layers, type of layers, task, dataset, optimizer, learning rate, etc.) so that a thorough grid search would not be useful in our case.\n",
        "In the literature, activation functions that have shown to work well with deep networks are all types of ReLU functions we experiment with here, with small gains for specific activation functions in specific networks."
      ]
    },
    {
      "cell_type": "markdown",
      "metadata": {
        "id": "Vgi_gAew5xYF"
      },
      "source": [
        "### Visualizing the activation distribution"
      ]
    },
    {
      "cell_type": "markdown",
      "metadata": {
        "id": "XN7Q9NPq5xYF"
      },
      "source": [
        "After we have trained the models, we can look at the actual activation values that find inside the model. For instance, how many neurons are set to zero in ReLU? Where do we find most values in Tanh?\n",
        "To answer these questions, we can write a simple function which takes a trained model, applies it to a batch of images, and plots the histogram of the activations inside the network:"
      ]
    },
    {
      "cell_type": "code",
      "execution_count": null,
      "metadata": {
        "scrolled": true,
        "id": "UBqybErB5xYF"
      },
      "outputs": [],
      "source": [
        "def visualize_activations(net, color=\"C0\"):\n",
        "    activations = {}\n",
        "\n",
        "    net.eval()\n",
        "    small_loader = data.DataLoader(train_set, batch_size=1024)\n",
        "    imgs, labels = next(iter(small_loader))\n",
        "    with torch.no_grad():\n",
        "        layer_index = 0\n",
        "        imgs = imgs.to(device)\n",
        "        imgs = imgs.view(imgs.size(0), -1)\n",
        "        # We need to manually loop through the layers to save all activations\n",
        "        for layer_index, layer in enumerate(net.layers[:-1]):\n",
        "            imgs = layer(imgs)\n",
        "            activations[layer_index] = imgs.view(-1).cpu().numpy()\n",
        "\n",
        "    ## Plotting\n",
        "    columns = 4\n",
        "    rows = math.ceil(len(activations)/columns)\n",
        "    fig, ax = plt.subplots(rows, columns, figsize=(columns*2.7, rows*2.5))\n",
        "    fig_index = 0\n",
        "    for key in activations:\n",
        "        key_ax = ax[fig_index//columns][fig_index%columns]\n",
        "        sns.histplot(data=activations[key], bins=50, ax=key_ax, color=color, kde=True, stat=\"density\")\n",
        "        key_ax.set_title(\"Layer %i - %s\" % (key, net.layers[key].__class__.__name__))\n",
        "        fig_index += 1\n",
        "    fig.suptitle(\"Activation distribution for activation function %s\" % (net.config[\"act_fn\"][\"name\"]), fontsize=14)\n",
        "    fig.subplots_adjust(hspace=0.4, wspace=0.4)\n",
        "    plt.show()\n",
        "    plt.close()"
      ]
    },
    {
      "cell_type": "code",
      "execution_count": null,
      "metadata": {
        "scrolled": false,
        "id": "TPnaw9iu5xYG"
      },
      "outputs": [],
      "source": [
        "for i, act_fn_name in enumerate(act_fn_by_name):\n",
        "    net_actfn = load_model(model_path=CHECKPOINT_PATH, model_name=\"FashionMNIST_%s\" % act_fn_name).to(device)\n",
        "    visualize_activations(net_actfn, color=\"C%i\" % i)"
      ]
    },
    {
      "cell_type": "markdown",
      "metadata": {
        "id": "DWKVhFQw5xYG"
      },
      "source": [
        "As the model with sigmoid activation was not able to train properly, the activations are also less informative and all gathered around 0.5 (the activation at input 0).\n",
        "\n",
        "The tanh shows a more diverse behavior. While for the input layer we experience a larger amount of neurons to be close to -1 and 1, where the gradients are close to zero, the activations in the two consecutive layers are closer to zero. This is probably because the input layers look for specific features in the input image, and the consecutive layers combine those together. The activations for the last layer are again more biased to the extreme points because the classification layer can be seen as a weighted average of those values (the gradients push the activations to those extremes).\n",
        "\n",
        "The ReLU has a strong peak at 0, as we initially expected. The effect of having no gradients for negative values is that the network does not have a Gaussian-like distribution after the linear layers, but a longer tail towards the positive values.\n",
        "The LeakyReLU shows a very similar behavior while ELU follows again a more Gaussian-like distribution.\n",
        "The Swish activation seems to lie in between, although it is worth noting that Swish uses significantly higher values than other activation functions (up to 20).\n",
        "\n",
        "As all activation functions show slightly different behavior although obtaining similar performance for our simple network, it becomes apparent that the selection of the \"optimal\" activation function really depends on many factors, and is not the same for all possible networks."
      ]
    },
    {
      "cell_type": "markdown",
      "metadata": {
        "id": "tYu0kqJ65xYG"
      },
      "source": [
        "### Finding dead neurons in ReLU networks"
      ]
    },
    {
      "cell_type": "markdown",
      "metadata": {
        "id": "jibCtAwW5xYG"
      },
      "source": [
        "One known drawback of the ReLU activation is the occurrence of \"dead neurons\", i.e. neurons with no gradient for any training input.\n",
        "The issue of dead neurons is that as no gradient is provided for the layer, we cannot train the parameters of this neuron in the previous layer to obtain output values besides zero.\n",
        "For dead neurons to happen, the output value of a specific neuron of the linear layer before the ReLU has to be negative for all input images.\n",
        "Considering the large number of neurons we have in a neural network, it is not unlikely for this to happen.\n",
        "\n",
        "To get a better understanding of how much of a problem this is, and when we need to be careful, we will measure how many dead neurons different networks have. For this, we implement a function which runs the network on the whole training set and records whether a neuron is exactly 0 for all data points or not:"
      ]
    },
    {
      "cell_type": "code",
      "execution_count": null,
      "metadata": {
        "scrolled": true,
        "id": "7lIpPn5X5xYG"
      },
      "outputs": [],
      "source": [
        "def measure_number_dead_neurons(net):\n",
        "\n",
        "    # For each neuron, we create a boolean variable initially set to 1. If it has an activation unequals 0 at any time,\n",
        "    # we set this variable to 0. After running through the whole training set, only dead neurons will have a 1.\n",
        "    neurons_dead = [\n",
        "        torch.ones(layer.weight.shape[0], device=device, dtype=torch.bool) for layer in net.layers[:-1] if isinstance(layer, nn.Linear)\n",
        "    ] # Same shapes as hidden size in BaseNetwork\n",
        "\n",
        "    net.eval()\n",
        "    with torch.no_grad():\n",
        "        for imgs, labels in tqdm(train_loader, leave=False): # Run through whole training set\n",
        "            layer_index = 0\n",
        "            imgs = imgs.to(device)\n",
        "            imgs = imgs.view(imgs.size(0), -1)\n",
        "            for layer in net.layers[:-1]:\n",
        "                imgs = layer(imgs)\n",
        "                if isinstance(layer, ActivationFunction):\n",
        "                    ## TODO: Update the buffer neurons_dead[layer_index] with the activations on the new batch\n",
        "                    neurons_dead[layer_index] = ...\n",
        "                    layer_index += 1\n",
        "    number_neurons_dead = [t.sum().item() for t in neurons_dead]\n",
        "    print(\"Number of dead neurons:\", number_neurons_dead)\n",
        "    print(\"In percentage:\", \", \".join([\"%4.2f%%\" % (100.0 * num_dead / tens.shape[0]) for tens, num_dead in zip(neurons_dead, number_neurons_dead)]))"
      ]
    },
    {
      "cell_type": "markdown",
      "metadata": {
        "id": "cjMC1HV15xYH"
      },
      "source": [
        "First, we can measure the number of dead neurons for an untrained network:"
      ]
    },
    {
      "cell_type": "code",
      "execution_count": null,
      "metadata": {
        "scrolled": true,
        "id": "kkx-xhQr5xYH"
      },
      "outputs": [],
      "source": [
        "set_seed(42)\n",
        "net_relu = BaseNetwork(act_fn=ReLU()).to(device)\n",
        "measure_number_dead_neurons(net_relu)"
      ]
    },
    {
      "cell_type": "markdown",
      "metadata": {
        "id": "6hWpu0-l5xYH"
      },
      "source": [
        "We see that only a minor amount of neurons are dead, but that they increase with the depth of the layer.\n",
        "However, this is not a problem for the small number of dead neurons we have as the input to later layers is changed due to updates to the weights of previous layers. Therefore, dead neurons in later layers can potentially become \"alive\"/active again.\n",
        "\n",
        "How does this look like for a trained network (with the same initialization)?"
      ]
    },
    {
      "cell_type": "code",
      "execution_count": null,
      "metadata": {
        "scrolled": true,
        "id": "ABNgotq05xYH"
      },
      "outputs": [],
      "source": [
        "net_relu = load_model(model_path=CHECKPOINT_PATH, model_name=\"FashionMNIST_relu\").to(device)\n",
        "measure_number_dead_neurons(net_relu)"
      ]
    },
    {
      "cell_type": "markdown",
      "metadata": {
        "id": "O4_KgdC_5xYH"
      },
      "source": [
        "The number of dead neurons indeed decreased in the later layers. However, it should be noted that dead neurons are especially problematic in the input layer. As the input does not change over epochs (the training set is kept as it is), training the network cannot turn those neurons back active. Still, the input data has usually a sufficiently high standard deviation to reduce the risk of dead neurons.\n",
        "\n",
        "Finally, we check how the number of dead neurons behaves with increasing layer depth. For instance, let's take the following 10-layer neural network:"
      ]
    },
    {
      "cell_type": "code",
      "execution_count": null,
      "metadata": {
        "scrolled": false,
        "id": "JufwkedG5xYH"
      },
      "outputs": [],
      "source": [
        "set_seed(42)\n",
        "net_relu = BaseNetwork(act_fn=ReLU(), hidden_sizes=[256, 256, 256, 256, 256, 128, 128, 128, 128, 128]).to(device)\n",
        "measure_number_dead_neurons(net_relu)"
      ]
    },
    {
      "cell_type": "markdown",
      "metadata": {
        "id": "GtiPMjiP5xYI"
      },
      "source": [
        "The number of dead neurons is significantly higher than before which harms the gradient flow especially in the first iterations. For instance, more than 56% of the neurons in the pre-last layer are dead which creates a considerable bottleneck.\n",
        "Hence, it is advisible to use other nonlinearities like Swish for very deep networks."
      ]
    },
    {
      "cell_type": "markdown",
      "metadata": {
        "id": "R6FsHHMg5xYI"
      },
      "source": [
        "## Conclusion\n",
        "\n",
        "In this notebook, we have reviewed a set of six activation functions (sigmoid, tanh, ReLU, LeakyReLU, ELU, and Swish) in neural networks, and discussed how they influence the gradient distribution across layers. Sigmoid tends to fail deep neural networks as the highest gradient it provides is 0.25 leading to vanishing gradients in early layers. All ReLU-based activation functions have shown to perform well, and besides the original ReLU, do not have the issue of dead neurons. When implementing your own neural network, it is recommended to start with a ReLU-based network and select the specific activation function based on the properties of the network."
      ]
    },
    {
      "cell_type": "markdown",
      "metadata": {
        "id": "83xRee6u5xYI"
      },
      "source": [
        "## References\n",
        "\n",
        "[1] Ramachandran, Prajit, Barret Zoph, and Quoc V. Le. \"Searching for activation functions.\" arXiv preprint arXiv:1710.05941 (2017). [Paper link](https://arxiv.org/abs/1710.05941)"
      ]
    }
  ],
  "metadata": {
    "kernelspec": {
      "display_name": "Python 3",
      "name": "python3"
    },
    "language_info": {
      "codemirror_mode": {
        "name": "ipython",
        "version": 3
      },
      "file_extension": ".py",
      "mimetype": "text/x-python",
      "name": "python",
      "nbconvert_exporter": "python",
      "pygments_lexer": "ipython3",
      "version": "3.7.3"
    },
    "colab": {
      "provenance": [],
      "gpuType": "T4",
      "include_colab_link": true
    },
    "accelerator": "GPU"
  },
  "nbformat": 4,
  "nbformat_minor": 0
}